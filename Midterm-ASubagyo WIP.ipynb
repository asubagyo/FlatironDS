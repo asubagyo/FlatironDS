{
 "cells": [
  {
   "cell_type": "markdown",
   "metadata": {},
   "source": [
    "# Midterm Project\n",
    "\n",
    "For the midterm project you'll get to practice the data science process by trying out a regression problem! You'll then get to compare your model performance to other peers' work on the same dataset as well as work on several other datasets. This will allow you to see new ideas on the same problem as well as nuances of the same technique across different datasets. "
   ]
  },
  {
   "cell_type": "markdown",
   "metadata": {},
   "source": [
    "# Datasets\n",
    "\n",
    "You will take one of the following datasets and apply a standard data science process of exploratory analysis, cleaning and machine learning. This process will be outlined in several large stages. To start, take your dataset, import the data and begin doing some initial exploratory analysis using the tools and techniques we have covered thus far. You will find all three datasets under a folder titled 'Datasets'.\n",
    "\n",
    "\n",
    "* Walmart Sales Forecasting\n",
    "* Estimating NYC Cab Trip Duration\n",
    "* Lego Sets (previously seen)"
   ]
  },
  {
   "cell_type": "markdown",
   "metadata": {},
   "source": [
    "## Project Outline\n",
    "* Load Data\n",
    "* Exploratory Analysis\n",
    "* Initial Model\n",
    "* Evaluation\n",
    "* Feature Engineering\n",
    "* Model 2\n",
    "* Evaluation\n",
    "* Further Investigation/Exploration"
   ]
  },
  {
   "cell_type": "markdown",
   "metadata": {},
   "source": [
    "# Load the Data"
   ]
  },
  {
   "cell_type": "code",
   "execution_count": 1,
   "metadata": {},
   "outputs": [],
   "source": [
    "#Your code here\n",
    "\n",
    "import pandas as pd \n",
    "import numpy as np\n",
    "import plotnine \n",
    "from plotnine import *\n",
    "import seaborn as sns\n",
    "import matplotlib.pyplot as plt\n",
    "\n",
    "%matplotlib inline"
   ]
  },
  {
   "cell_type": "code",
   "execution_count": 2,
   "metadata": {
    "scrolled": false
   },
   "outputs": [
    {
     "data": {
      "text/html": [
       "<div>\n",
       "<style scoped>\n",
       "    .dataframe tbody tr th:only-of-type {\n",
       "        vertical-align: middle;\n",
       "    }\n",
       "\n",
       "    .dataframe tbody tr th {\n",
       "        vertical-align: top;\n",
       "    }\n",
       "\n",
       "    .dataframe thead th {\n",
       "        text-align: right;\n",
       "    }\n",
       "</style>\n",
       "<table border=\"1\" class=\"dataframe\">\n",
       "  <thead>\n",
       "    <tr style=\"text-align: right;\">\n",
       "      <th></th>\n",
       "      <th>Store</th>\n",
       "      <th>Dept</th>\n",
       "      <th>Date</th>\n",
       "      <th>Weekly_Sales</th>\n",
       "      <th>IsHoliday</th>\n",
       "    </tr>\n",
       "  </thead>\n",
       "  <tbody>\n",
       "    <tr>\n",
       "      <th>0</th>\n",
       "      <td>1</td>\n",
       "      <td>1</td>\n",
       "      <td>2010-02-05</td>\n",
       "      <td>24924.50</td>\n",
       "      <td>False</td>\n",
       "    </tr>\n",
       "    <tr>\n",
       "      <th>1</th>\n",
       "      <td>1</td>\n",
       "      <td>1</td>\n",
       "      <td>2010-02-12</td>\n",
       "      <td>46039.49</td>\n",
       "      <td>True</td>\n",
       "    </tr>\n",
       "    <tr>\n",
       "      <th>2</th>\n",
       "      <td>1</td>\n",
       "      <td>1</td>\n",
       "      <td>2010-02-19</td>\n",
       "      <td>41595.55</td>\n",
       "      <td>False</td>\n",
       "    </tr>\n",
       "    <tr>\n",
       "      <th>3</th>\n",
       "      <td>1</td>\n",
       "      <td>1</td>\n",
       "      <td>2010-02-26</td>\n",
       "      <td>19403.54</td>\n",
       "      <td>False</td>\n",
       "    </tr>\n",
       "    <tr>\n",
       "      <th>4</th>\n",
       "      <td>1</td>\n",
       "      <td>1</td>\n",
       "      <td>2010-03-05</td>\n",
       "      <td>21827.90</td>\n",
       "      <td>False</td>\n",
       "    </tr>\n",
       "  </tbody>\n",
       "</table>\n",
       "</div>"
      ],
      "text/plain": [
       "   Store  Dept        Date  Weekly_Sales  IsHoliday\n",
       "0      1     1  2010-02-05      24924.50      False\n",
       "1      1     1  2010-02-12      46039.49       True\n",
       "2      1     1  2010-02-19      41595.55      False\n",
       "3      1     1  2010-02-26      19403.54      False\n",
       "4      1     1  2010-03-05      21827.90      False"
      ]
     },
     "execution_count": 2,
     "metadata": {},
     "output_type": "execute_result"
    }
   ],
   "source": [
    "df1 = pd.read_csv('Walmart_Sales_Forecasting.csv')\n",
    "df1.head()"
   ]
  },
  {
   "cell_type": "code",
   "execution_count": 3,
   "metadata": {},
   "outputs": [
    {
     "data": {
      "text/html": [
       "<div>\n",
       "<style scoped>\n",
       "    .dataframe tbody tr th:only-of-type {\n",
       "        vertical-align: middle;\n",
       "    }\n",
       "\n",
       "    .dataframe tbody tr th {\n",
       "        vertical-align: top;\n",
       "    }\n",
       "\n",
       "    .dataframe thead th {\n",
       "        text-align: right;\n",
       "    }\n",
       "</style>\n",
       "<table border=\"1\" class=\"dataframe\">\n",
       "  <thead>\n",
       "    <tr style=\"text-align: right;\">\n",
       "      <th></th>\n",
       "      <th>Store</th>\n",
       "      <th>Dept</th>\n",
       "      <th>Date</th>\n",
       "      <th>Weekly_Sales</th>\n",
       "      <th>IsHoliday</th>\n",
       "    </tr>\n",
       "  </thead>\n",
       "  <tbody>\n",
       "    <tr>\n",
       "      <th>421565</th>\n",
       "      <td>45</td>\n",
       "      <td>98</td>\n",
       "      <td>2012-09-28</td>\n",
       "      <td>508.37</td>\n",
       "      <td>False</td>\n",
       "    </tr>\n",
       "    <tr>\n",
       "      <th>421566</th>\n",
       "      <td>45</td>\n",
       "      <td>98</td>\n",
       "      <td>2012-10-05</td>\n",
       "      <td>628.10</td>\n",
       "      <td>False</td>\n",
       "    </tr>\n",
       "    <tr>\n",
       "      <th>421567</th>\n",
       "      <td>45</td>\n",
       "      <td>98</td>\n",
       "      <td>2012-10-12</td>\n",
       "      <td>1061.02</td>\n",
       "      <td>False</td>\n",
       "    </tr>\n",
       "    <tr>\n",
       "      <th>421568</th>\n",
       "      <td>45</td>\n",
       "      <td>98</td>\n",
       "      <td>2012-10-19</td>\n",
       "      <td>760.01</td>\n",
       "      <td>False</td>\n",
       "    </tr>\n",
       "    <tr>\n",
       "      <th>421569</th>\n",
       "      <td>45</td>\n",
       "      <td>98</td>\n",
       "      <td>2012-10-26</td>\n",
       "      <td>1076.80</td>\n",
       "      <td>False</td>\n",
       "    </tr>\n",
       "  </tbody>\n",
       "</table>\n",
       "</div>"
      ],
      "text/plain": [
       "        Store  Dept        Date  Weekly_Sales  IsHoliday\n",
       "421565     45    98  2012-09-28        508.37      False\n",
       "421566     45    98  2012-10-05        628.10      False\n",
       "421567     45    98  2012-10-12       1061.02      False\n",
       "421568     45    98  2012-10-19        760.01      False\n",
       "421569     45    98  2012-10-26       1076.80      False"
      ]
     },
     "execution_count": 3,
     "metadata": {},
     "output_type": "execute_result"
    }
   ],
   "source": [
    "df1.tail()"
   ]
  },
  {
   "cell_type": "code",
   "execution_count": 3,
   "metadata": {
    "scrolled": true
   },
   "outputs": [
    {
     "data": {
      "text/plain": [
       "'/Users/adriansubagyo/Desktop/FlatironDS/Midterm/ds-skills-midterm-intro-nyc-ds-100218'"
      ]
     },
     "execution_count": 3,
     "metadata": {},
     "output_type": "execute_result"
    }
   ],
   "source": [
    "pwd #tell you where your link is"
   ]
  },
  {
   "cell_type": "code",
   "execution_count": 4,
   "metadata": {
    "scrolled": true
   },
   "outputs": [
    {
     "data": {
      "text/html": [
       "<div>\n",
       "<style scoped>\n",
       "    .dataframe tbody tr th:only-of-type {\n",
       "        vertical-align: middle;\n",
       "    }\n",
       "\n",
       "    .dataframe tbody tr th {\n",
       "        vertical-align: top;\n",
       "    }\n",
       "\n",
       "    .dataframe thead th {\n",
       "        text-align: right;\n",
       "    }\n",
       "</style>\n",
       "<table border=\"1\" class=\"dataframe\">\n",
       "  <thead>\n",
       "    <tr style=\"text-align: right;\">\n",
       "      <th></th>\n",
       "      <th>Store</th>\n",
       "      <th>Date</th>\n",
       "      <th>Temperature</th>\n",
       "      <th>Fuel_Price</th>\n",
       "      <th>MarkDown1</th>\n",
       "      <th>MarkDown2</th>\n",
       "      <th>MarkDown3</th>\n",
       "      <th>MarkDown4</th>\n",
       "      <th>MarkDown5</th>\n",
       "      <th>CPI</th>\n",
       "      <th>Unemployment</th>\n",
       "      <th>IsHoliday</th>\n",
       "    </tr>\n",
       "  </thead>\n",
       "  <tbody>\n",
       "    <tr>\n",
       "      <th>0</th>\n",
       "      <td>1</td>\n",
       "      <td>2010-02-05</td>\n",
       "      <td>42.31</td>\n",
       "      <td>2.572</td>\n",
       "      <td>NaN</td>\n",
       "      <td>NaN</td>\n",
       "      <td>NaN</td>\n",
       "      <td>NaN</td>\n",
       "      <td>NaN</td>\n",
       "      <td>211.096358</td>\n",
       "      <td>8.106</td>\n",
       "      <td>False</td>\n",
       "    </tr>\n",
       "    <tr>\n",
       "      <th>1</th>\n",
       "      <td>1</td>\n",
       "      <td>2010-02-12</td>\n",
       "      <td>38.51</td>\n",
       "      <td>2.548</td>\n",
       "      <td>NaN</td>\n",
       "      <td>NaN</td>\n",
       "      <td>NaN</td>\n",
       "      <td>NaN</td>\n",
       "      <td>NaN</td>\n",
       "      <td>211.242170</td>\n",
       "      <td>8.106</td>\n",
       "      <td>True</td>\n",
       "    </tr>\n",
       "    <tr>\n",
       "      <th>2</th>\n",
       "      <td>1</td>\n",
       "      <td>2010-02-19</td>\n",
       "      <td>39.93</td>\n",
       "      <td>2.514</td>\n",
       "      <td>NaN</td>\n",
       "      <td>NaN</td>\n",
       "      <td>NaN</td>\n",
       "      <td>NaN</td>\n",
       "      <td>NaN</td>\n",
       "      <td>211.289143</td>\n",
       "      <td>8.106</td>\n",
       "      <td>False</td>\n",
       "    </tr>\n",
       "    <tr>\n",
       "      <th>3</th>\n",
       "      <td>1</td>\n",
       "      <td>2010-02-26</td>\n",
       "      <td>46.63</td>\n",
       "      <td>2.561</td>\n",
       "      <td>NaN</td>\n",
       "      <td>NaN</td>\n",
       "      <td>NaN</td>\n",
       "      <td>NaN</td>\n",
       "      <td>NaN</td>\n",
       "      <td>211.319643</td>\n",
       "      <td>8.106</td>\n",
       "      <td>False</td>\n",
       "    </tr>\n",
       "    <tr>\n",
       "      <th>4</th>\n",
       "      <td>1</td>\n",
       "      <td>2010-03-05</td>\n",
       "      <td>46.50</td>\n",
       "      <td>2.625</td>\n",
       "      <td>NaN</td>\n",
       "      <td>NaN</td>\n",
       "      <td>NaN</td>\n",
       "      <td>NaN</td>\n",
       "      <td>NaN</td>\n",
       "      <td>211.350143</td>\n",
       "      <td>8.106</td>\n",
       "      <td>False</td>\n",
       "    </tr>\n",
       "  </tbody>\n",
       "</table>\n",
       "</div>"
      ],
      "text/plain": [
       "   Store        Date  Temperature  Fuel_Price  MarkDown1  MarkDown2  \\\n",
       "0      1  2010-02-05        42.31       2.572        NaN        NaN   \n",
       "1      1  2010-02-12        38.51       2.548        NaN        NaN   \n",
       "2      1  2010-02-19        39.93       2.514        NaN        NaN   \n",
       "3      1  2010-02-26        46.63       2.561        NaN        NaN   \n",
       "4      1  2010-03-05        46.50       2.625        NaN        NaN   \n",
       "\n",
       "   MarkDown3  MarkDown4  MarkDown5         CPI  Unemployment  IsHoliday  \n",
       "0        NaN        NaN        NaN  211.096358         8.106      False  \n",
       "1        NaN        NaN        NaN  211.242170         8.106       True  \n",
       "2        NaN        NaN        NaN  211.289143         8.106      False  \n",
       "3        NaN        NaN        NaN  211.319643         8.106      False  \n",
       "4        NaN        NaN        NaN  211.350143         8.106      False  "
      ]
     },
     "execution_count": 4,
     "metadata": {},
     "output_type": "execute_result"
    }
   ],
   "source": [
    "df2 = pd.read_csv('features.csv')\n",
    "df2.head()"
   ]
  },
  {
   "cell_type": "code",
   "execution_count": 5,
   "metadata": {
    "scrolled": true
   },
   "outputs": [
    {
     "data": {
      "text/html": [
       "<div>\n",
       "<style scoped>\n",
       "    .dataframe tbody tr th:only-of-type {\n",
       "        vertical-align: middle;\n",
       "    }\n",
       "\n",
       "    .dataframe tbody tr th {\n",
       "        vertical-align: top;\n",
       "    }\n",
       "\n",
       "    .dataframe thead th {\n",
       "        text-align: right;\n",
       "    }\n",
       "</style>\n",
       "<table border=\"1\" class=\"dataframe\">\n",
       "  <thead>\n",
       "    <tr style=\"text-align: right;\">\n",
       "      <th></th>\n",
       "      <th>Store</th>\n",
       "      <th>Dept</th>\n",
       "      <th>Date</th>\n",
       "      <th>Weekly_Sales</th>\n",
       "      <th>IsHoliday</th>\n",
       "      <th>Temperature</th>\n",
       "      <th>Fuel_Price</th>\n",
       "      <th>MarkDown1</th>\n",
       "      <th>MarkDown2</th>\n",
       "      <th>MarkDown3</th>\n",
       "      <th>MarkDown4</th>\n",
       "      <th>MarkDown5</th>\n",
       "      <th>CPI</th>\n",
       "      <th>Unemployment</th>\n",
       "    </tr>\n",
       "  </thead>\n",
       "  <tbody>\n",
       "    <tr>\n",
       "      <th>0</th>\n",
       "      <td>1</td>\n",
       "      <td>1</td>\n",
       "      <td>2010-02-05</td>\n",
       "      <td>24924.50</td>\n",
       "      <td>False</td>\n",
       "      <td>42.31</td>\n",
       "      <td>2.572</td>\n",
       "      <td>NaN</td>\n",
       "      <td>NaN</td>\n",
       "      <td>NaN</td>\n",
       "      <td>NaN</td>\n",
       "      <td>NaN</td>\n",
       "      <td>211.096358</td>\n",
       "      <td>8.106</td>\n",
       "    </tr>\n",
       "    <tr>\n",
       "      <th>1</th>\n",
       "      <td>1</td>\n",
       "      <td>2</td>\n",
       "      <td>2010-02-05</td>\n",
       "      <td>50605.27</td>\n",
       "      <td>False</td>\n",
       "      <td>42.31</td>\n",
       "      <td>2.572</td>\n",
       "      <td>NaN</td>\n",
       "      <td>NaN</td>\n",
       "      <td>NaN</td>\n",
       "      <td>NaN</td>\n",
       "      <td>NaN</td>\n",
       "      <td>211.096358</td>\n",
       "      <td>8.106</td>\n",
       "    </tr>\n",
       "    <tr>\n",
       "      <th>2</th>\n",
       "      <td>1</td>\n",
       "      <td>3</td>\n",
       "      <td>2010-02-05</td>\n",
       "      <td>13740.12</td>\n",
       "      <td>False</td>\n",
       "      <td>42.31</td>\n",
       "      <td>2.572</td>\n",
       "      <td>NaN</td>\n",
       "      <td>NaN</td>\n",
       "      <td>NaN</td>\n",
       "      <td>NaN</td>\n",
       "      <td>NaN</td>\n",
       "      <td>211.096358</td>\n",
       "      <td>8.106</td>\n",
       "    </tr>\n",
       "    <tr>\n",
       "      <th>3</th>\n",
       "      <td>1</td>\n",
       "      <td>4</td>\n",
       "      <td>2010-02-05</td>\n",
       "      <td>39954.04</td>\n",
       "      <td>False</td>\n",
       "      <td>42.31</td>\n",
       "      <td>2.572</td>\n",
       "      <td>NaN</td>\n",
       "      <td>NaN</td>\n",
       "      <td>NaN</td>\n",
       "      <td>NaN</td>\n",
       "      <td>NaN</td>\n",
       "      <td>211.096358</td>\n",
       "      <td>8.106</td>\n",
       "    </tr>\n",
       "    <tr>\n",
       "      <th>4</th>\n",
       "      <td>1</td>\n",
       "      <td>5</td>\n",
       "      <td>2010-02-05</td>\n",
       "      <td>32229.38</td>\n",
       "      <td>False</td>\n",
       "      <td>42.31</td>\n",
       "      <td>2.572</td>\n",
       "      <td>NaN</td>\n",
       "      <td>NaN</td>\n",
       "      <td>NaN</td>\n",
       "      <td>NaN</td>\n",
       "      <td>NaN</td>\n",
       "      <td>211.096358</td>\n",
       "      <td>8.106</td>\n",
       "    </tr>\n",
       "  </tbody>\n",
       "</table>\n",
       "</div>"
      ],
      "text/plain": [
       "   Store  Dept        Date  Weekly_Sales  IsHoliday  Temperature  Fuel_Price  \\\n",
       "0      1     1  2010-02-05      24924.50      False        42.31       2.572   \n",
       "1      1     2  2010-02-05      50605.27      False        42.31       2.572   \n",
       "2      1     3  2010-02-05      13740.12      False        42.31       2.572   \n",
       "3      1     4  2010-02-05      39954.04      False        42.31       2.572   \n",
       "4      1     5  2010-02-05      32229.38      False        42.31       2.572   \n",
       "\n",
       "   MarkDown1  MarkDown2  MarkDown3  MarkDown4  MarkDown5         CPI  \\\n",
       "0        NaN        NaN        NaN        NaN        NaN  211.096358   \n",
       "1        NaN        NaN        NaN        NaN        NaN  211.096358   \n",
       "2        NaN        NaN        NaN        NaN        NaN  211.096358   \n",
       "3        NaN        NaN        NaN        NaN        NaN  211.096358   \n",
       "4        NaN        NaN        NaN        NaN        NaN  211.096358   \n",
       "\n",
       "   Unemployment  \n",
       "0         8.106  \n",
       "1         8.106  \n",
       "2         8.106  \n",
       "3         8.106  \n",
       "4         8.106  "
      ]
     },
     "execution_count": 5,
     "metadata": {},
     "output_type": "execute_result"
    }
   ],
   "source": [
    "final = pd.merge(df1, df2) #which two dataframes to combine, and what columns to merge data in on.\n",
    "final.head()"
   ]
  },
  {
   "cell_type": "code",
   "execution_count": 6,
   "metadata": {},
   "outputs": [
    {
     "data": {
      "image/png": "[encoded data removed]",
      "text/plain": [
       "<Figure size 432x288 with 1 Axes>"
      ]
     },
     "metadata": {},
     "output_type": "display_data"
    }
   ],
   "source": [
    "#histogram - show that its better to fillna with 0 rather than drop\n",
    "ax = final[['MarkDown1','MarkDown2','MarkDown3','MarkDown4','MarkDown5']].plot.hist(bins=50, alpha=0.3)"
   ]
  },
  {
   "cell_type": "code",
   "execution_count": 53,
   "metadata": {},
   "outputs": [
    {
     "data": {
      "text/plain": [
       "(421570, 14)"
      ]
     },
     "execution_count": 53,
     "metadata": {},
     "output_type": "execute_result"
    }
   ],
   "source": [
    "final.shape"
   ]
  },
  {
   "cell_type": "markdown",
   "metadata": {},
   "source": [
    "# Exploratory Data Analysis"
   ]
  },
  {
   "cell_type": "code",
   "execution_count": 7,
   "metadata": {},
   "outputs": [
    {
     "data": {
      "text/html": [
       "<div>\n",
       "<style scoped>\n",
       "    .dataframe tbody tr th:only-of-type {\n",
       "        vertical-align: middle;\n",
       "    }\n",
       "\n",
       "    .dataframe tbody tr th {\n",
       "        vertical-align: top;\n",
       "    }\n",
       "\n",
       "    .dataframe thead th {\n",
       "        text-align: right;\n",
       "    }\n",
       "</style>\n",
       "<table border=\"1\" class=\"dataframe\">\n",
       "  <thead>\n",
       "    <tr style=\"text-align: right;\">\n",
       "      <th></th>\n",
       "      <th>Store</th>\n",
       "      <th>Dept</th>\n",
       "      <th>Date</th>\n",
       "      <th>Weekly_Sales</th>\n",
       "      <th>IsHoliday</th>\n",
       "      <th>Temperature</th>\n",
       "      <th>Fuel_Price</th>\n",
       "      <th>MarkDown1</th>\n",
       "      <th>MarkDown2</th>\n",
       "      <th>MarkDown3</th>\n",
       "      <th>MarkDown4</th>\n",
       "      <th>MarkDown5</th>\n",
       "      <th>CPI</th>\n",
       "      <th>Unemployment</th>\n",
       "    </tr>\n",
       "  </thead>\n",
       "  <tbody>\n",
       "    <tr>\n",
       "      <th>0</th>\n",
       "      <td>1</td>\n",
       "      <td>1</td>\n",
       "      <td>2010-02-05</td>\n",
       "      <td>24924.50</td>\n",
       "      <td>False</td>\n",
       "      <td>42.31</td>\n",
       "      <td>2.572</td>\n",
       "      <td>0.0</td>\n",
       "      <td>0.0</td>\n",
       "      <td>0.0</td>\n",
       "      <td>0.0</td>\n",
       "      <td>0.0</td>\n",
       "      <td>211.096358</td>\n",
       "      <td>8.106</td>\n",
       "    </tr>\n",
       "    <tr>\n",
       "      <th>1</th>\n",
       "      <td>1</td>\n",
       "      <td>2</td>\n",
       "      <td>2010-02-05</td>\n",
       "      <td>50605.27</td>\n",
       "      <td>False</td>\n",
       "      <td>42.31</td>\n",
       "      <td>2.572</td>\n",
       "      <td>0.0</td>\n",
       "      <td>0.0</td>\n",
       "      <td>0.0</td>\n",
       "      <td>0.0</td>\n",
       "      <td>0.0</td>\n",
       "      <td>211.096358</td>\n",
       "      <td>8.106</td>\n",
       "    </tr>\n",
       "    <tr>\n",
       "      <th>2</th>\n",
       "      <td>1</td>\n",
       "      <td>3</td>\n",
       "      <td>2010-02-05</td>\n",
       "      <td>13740.12</td>\n",
       "      <td>False</td>\n",
       "      <td>42.31</td>\n",
       "      <td>2.572</td>\n",
       "      <td>0.0</td>\n",
       "      <td>0.0</td>\n",
       "      <td>0.0</td>\n",
       "      <td>0.0</td>\n",
       "      <td>0.0</td>\n",
       "      <td>211.096358</td>\n",
       "      <td>8.106</td>\n",
       "    </tr>\n",
       "    <tr>\n",
       "      <th>3</th>\n",
       "      <td>1</td>\n",
       "      <td>4</td>\n",
       "      <td>2010-02-05</td>\n",
       "      <td>39954.04</td>\n",
       "      <td>False</td>\n",
       "      <td>42.31</td>\n",
       "      <td>2.572</td>\n",
       "      <td>0.0</td>\n",
       "      <td>0.0</td>\n",
       "      <td>0.0</td>\n",
       "      <td>0.0</td>\n",
       "      <td>0.0</td>\n",
       "      <td>211.096358</td>\n",
       "      <td>8.106</td>\n",
       "    </tr>\n",
       "    <tr>\n",
       "      <th>4</th>\n",
       "      <td>1</td>\n",
       "      <td>5</td>\n",
       "      <td>2010-02-05</td>\n",
       "      <td>32229.38</td>\n",
       "      <td>False</td>\n",
       "      <td>42.31</td>\n",
       "      <td>2.572</td>\n",
       "      <td>0.0</td>\n",
       "      <td>0.0</td>\n",
       "      <td>0.0</td>\n",
       "      <td>0.0</td>\n",
       "      <td>0.0</td>\n",
       "      <td>211.096358</td>\n",
       "      <td>8.106</td>\n",
       "    </tr>\n",
       "  </tbody>\n",
       "</table>\n",
       "</div>"
      ],
      "text/plain": [
       "   Store  Dept        Date  Weekly_Sales  IsHoliday  Temperature  Fuel_Price  \\\n",
       "0      1     1  2010-02-05      24924.50      False        42.31       2.572   \n",
       "1      1     2  2010-02-05      50605.27      False        42.31       2.572   \n",
       "2      1     3  2010-02-05      13740.12      False        42.31       2.572   \n",
       "3      1     4  2010-02-05      39954.04      False        42.31       2.572   \n",
       "4      1     5  2010-02-05      32229.38      False        42.31       2.572   \n",
       "\n",
       "   MarkDown1  MarkDown2  MarkDown3  MarkDown4  MarkDown5         CPI  \\\n",
       "0        0.0        0.0        0.0        0.0        0.0  211.096358   \n",
       "1        0.0        0.0        0.0        0.0        0.0  211.096358   \n",
       "2        0.0        0.0        0.0        0.0        0.0  211.096358   \n",
       "3        0.0        0.0        0.0        0.0        0.0  211.096358   \n",
       "4        0.0        0.0        0.0        0.0        0.0  211.096358   \n",
       "\n",
       "   Unemployment  \n",
       "0         8.106  \n",
       "1         8.106  \n",
       "2         8.106  \n",
       "3         8.106  \n",
       "4         8.106  "
      ]
     },
     "execution_count": 7,
     "metadata": {},
     "output_type": "execute_result"
    }
   ],
   "source": [
    "finalfill = final.fillna(0)\n",
    "finalfill.head()"
   ]
  },
  {
   "cell_type": "code",
   "execution_count": 8,
   "metadata": {
    "scrolled": true
   },
   "outputs": [
    {
     "data": {
      "image/png": "[encoded data removed]",
      "text/plain": [
       "<Figure size 432x288 with 1 Axes>"
      ]
     },
     "metadata": {},
     "output_type": "display_data"
    }
   ],
   "source": [
    "axfill = finalfill[['MarkDown1','MarkDown2','MarkDown3','MarkDown4','MarkDown5']].plot.hist(bins=50, alpha=0.3)"
   ]
  },
  {
   "cell_type": "code",
   "execution_count": 9,
   "metadata": {
    "scrolled": true
   },
   "outputs": [
    {
     "data": {
      "text/html": [
       "<div>\n",
       "<style scoped>\n",
       "    .dataframe tbody tr th:only-of-type {\n",
       "        vertical-align: middle;\n",
       "    }\n",
       "\n",
       "    .dataframe tbody tr th {\n",
       "        vertical-align: top;\n",
       "    }\n",
       "\n",
       "    .dataframe thead th {\n",
       "        text-align: right;\n",
       "    }\n",
       "</style>\n",
       "<table border=\"1\" class=\"dataframe\">\n",
       "  <thead>\n",
       "    <tr style=\"text-align: right;\">\n",
       "      <th></th>\n",
       "      <th>Store</th>\n",
       "      <th>Dept</th>\n",
       "      <th>Date</th>\n",
       "      <th>Weekly_Sales</th>\n",
       "      <th>IsHoliday</th>\n",
       "      <th>Temperature</th>\n",
       "      <th>Fuel_Price</th>\n",
       "      <th>MarkDown1</th>\n",
       "      <th>MarkDown2</th>\n",
       "      <th>MarkDown3</th>\n",
       "      <th>MarkDown4</th>\n",
       "      <th>MarkDown5</th>\n",
       "      <th>CPI</th>\n",
       "      <th>Unemployment</th>\n",
       "    </tr>\n",
       "  </thead>\n",
       "  <tbody>\n",
       "    <tr>\n",
       "      <th>0</th>\n",
       "      <td>1</td>\n",
       "      <td>1</td>\n",
       "      <td>2010-02-05</td>\n",
       "      <td>24924.50</td>\n",
       "      <td>False</td>\n",
       "      <td>42.31</td>\n",
       "      <td>2.572</td>\n",
       "      <td>7246.420196</td>\n",
       "      <td>3334.628621</td>\n",
       "      <td>1439.421384</td>\n",
       "      <td>3383.168256</td>\n",
       "      <td>4628.975079</td>\n",
       "      <td>211.096358</td>\n",
       "      <td>8.106</td>\n",
       "    </tr>\n",
       "    <tr>\n",
       "      <th>1</th>\n",
       "      <td>1</td>\n",
       "      <td>2</td>\n",
       "      <td>2010-02-05</td>\n",
       "      <td>50605.27</td>\n",
       "      <td>False</td>\n",
       "      <td>42.31</td>\n",
       "      <td>2.572</td>\n",
       "      <td>7246.420196</td>\n",
       "      <td>3334.628621</td>\n",
       "      <td>1439.421384</td>\n",
       "      <td>3383.168256</td>\n",
       "      <td>4628.975079</td>\n",
       "      <td>211.096358</td>\n",
       "      <td>8.106</td>\n",
       "    </tr>\n",
       "    <tr>\n",
       "      <th>2</th>\n",
       "      <td>1</td>\n",
       "      <td>3</td>\n",
       "      <td>2010-02-05</td>\n",
       "      <td>13740.12</td>\n",
       "      <td>False</td>\n",
       "      <td>42.31</td>\n",
       "      <td>2.572</td>\n",
       "      <td>7246.420196</td>\n",
       "      <td>3334.628621</td>\n",
       "      <td>1439.421384</td>\n",
       "      <td>3383.168256</td>\n",
       "      <td>4628.975079</td>\n",
       "      <td>211.096358</td>\n",
       "      <td>8.106</td>\n",
       "    </tr>\n",
       "    <tr>\n",
       "      <th>3</th>\n",
       "      <td>1</td>\n",
       "      <td>4</td>\n",
       "      <td>2010-02-05</td>\n",
       "      <td>39954.04</td>\n",
       "      <td>False</td>\n",
       "      <td>42.31</td>\n",
       "      <td>2.572</td>\n",
       "      <td>7246.420196</td>\n",
       "      <td>3334.628621</td>\n",
       "      <td>1439.421384</td>\n",
       "      <td>3383.168256</td>\n",
       "      <td>4628.975079</td>\n",
       "      <td>211.096358</td>\n",
       "      <td>8.106</td>\n",
       "    </tr>\n",
       "    <tr>\n",
       "      <th>4</th>\n",
       "      <td>1</td>\n",
       "      <td>5</td>\n",
       "      <td>2010-02-05</td>\n",
       "      <td>32229.38</td>\n",
       "      <td>False</td>\n",
       "      <td>42.31</td>\n",
       "      <td>2.572</td>\n",
       "      <td>7246.420196</td>\n",
       "      <td>3334.628621</td>\n",
       "      <td>1439.421384</td>\n",
       "      <td>3383.168256</td>\n",
       "      <td>4628.975079</td>\n",
       "      <td>211.096358</td>\n",
       "      <td>8.106</td>\n",
       "    </tr>\n",
       "  </tbody>\n",
       "</table>\n",
       "</div>"
      ],
      "text/plain": [
       "   Store  Dept        Date  Weekly_Sales  IsHoliday  Temperature  Fuel_Price  \\\n",
       "0      1     1  2010-02-05      24924.50      False        42.31       2.572   \n",
       "1      1     2  2010-02-05      50605.27      False        42.31       2.572   \n",
       "2      1     3  2010-02-05      13740.12      False        42.31       2.572   \n",
       "3      1     4  2010-02-05      39954.04      False        42.31       2.572   \n",
       "4      1     5  2010-02-05      32229.38      False        42.31       2.572   \n",
       "\n",
       "     MarkDown1    MarkDown2    MarkDown3    MarkDown4    MarkDown5  \\\n",
       "0  7246.420196  3334.628621  1439.421384  3383.168256  4628.975079   \n",
       "1  7246.420196  3334.628621  1439.421384  3383.168256  4628.975079   \n",
       "2  7246.420196  3334.628621  1439.421384  3383.168256  4628.975079   \n",
       "3  7246.420196  3334.628621  1439.421384  3383.168256  4628.975079   \n",
       "4  7246.420196  3334.628621  1439.421384  3383.168256  4628.975079   \n",
       "\n",
       "          CPI  Unemployment  \n",
       "0  211.096358         8.106  \n",
       "1  211.096358         8.106  \n",
       "2  211.096358         8.106  \n",
       "3  211.096358         8.106  \n",
       "4  211.096358         8.106  "
      ]
     },
     "execution_count": 9,
     "metadata": {},
     "output_type": "execute_result"
    }
   ],
   "source": [
    "#fil na with mean \n",
    "finalx = final.copy()\n",
    "finalx['MarkDown1'] = finalx['MarkDown1'].fillna((finalx['MarkDown1'].mean()))\n",
    "finalx['MarkDown2'] = finalx['MarkDown2'].fillna((finalx['MarkDown2'].mean()))\n",
    "finalx['MarkDown3'] = finalx['MarkDown3'].fillna((finalx['MarkDown3'].mean()))\n",
    "finalx['MarkDown4'] = finalx['MarkDown4'].fillna((finalx['MarkDown4'].mean()))\n",
    "finalx['MarkDown5'] = finalx['MarkDown5'].fillna((finalx['MarkDown5'].mean()))\n",
    "finalx.head()\n",
    "\n",
    "\n",
    "\n",
    "                                                    "
   ]
  },
  {
   "cell_type": "code",
   "execution_count": 10,
   "metadata": {},
   "outputs": [
    {
     "data": {
      "image/png": "[encoded data removed]",
      "text/plain": [
       "<Figure size 432x288 with 1 Axes>"
      ]
     },
     "metadata": {},
     "output_type": "display_data"
    }
   ],
   "source": [
    "axx = finalx[['MarkDown1','MarkDown2','MarkDown3','MarkDown4','MarkDown5']].plot.hist(bins=50, alpha=0.3)"
   ]
  },
  {
   "cell_type": "code",
   "execution_count": 11,
   "metadata": {
    "scrolled": true
   },
   "outputs": [
    {
     "data": {
      "text/html": [
       "<div>\n",
       "<style scoped>\n",
       "    .dataframe tbody tr th:only-of-type {\n",
       "        vertical-align: middle;\n",
       "    }\n",
       "\n",
       "    .dataframe tbody tr th {\n",
       "        vertical-align: top;\n",
       "    }\n",
       "\n",
       "    .dataframe thead th {\n",
       "        text-align: right;\n",
       "    }\n",
       "</style>\n",
       "<table border=\"1\" class=\"dataframe\">\n",
       "  <thead>\n",
       "    <tr style=\"text-align: right;\">\n",
       "      <th></th>\n",
       "      <th>Store</th>\n",
       "      <th>Dept</th>\n",
       "      <th>Date</th>\n",
       "      <th>Weekly_Sales</th>\n",
       "      <th>IsHoliday</th>\n",
       "      <th>Temperature</th>\n",
       "      <th>Fuel_Price</th>\n",
       "      <th>MarkDown1</th>\n",
       "      <th>MarkDown2</th>\n",
       "      <th>MarkDown3</th>\n",
       "      <th>MarkDown4</th>\n",
       "      <th>MarkDown5</th>\n",
       "      <th>CPI</th>\n",
       "      <th>Unemployment</th>\n",
       "    </tr>\n",
       "  </thead>\n",
       "  <tbody>\n",
       "    <tr>\n",
       "      <th>6587</th>\n",
       "      <td>1</td>\n",
       "      <td>1</td>\n",
       "      <td>2011-11-11</td>\n",
       "      <td>18689.54</td>\n",
       "      <td>False</td>\n",
       "      <td>59.11</td>\n",
       "      <td>3.297</td>\n",
       "      <td>10382.9</td>\n",
       "      <td>6115.67</td>\n",
       "      <td>215.07</td>\n",
       "      <td>2406.62</td>\n",
       "      <td>6551.42</td>\n",
       "      <td>217.998085</td>\n",
       "      <td>7.866</td>\n",
       "    </tr>\n",
       "    <tr>\n",
       "      <th>6588</th>\n",
       "      <td>1</td>\n",
       "      <td>2</td>\n",
       "      <td>2011-11-11</td>\n",
       "      <td>44936.47</td>\n",
       "      <td>False</td>\n",
       "      <td>59.11</td>\n",
       "      <td>3.297</td>\n",
       "      <td>10382.9</td>\n",
       "      <td>6115.67</td>\n",
       "      <td>215.07</td>\n",
       "      <td>2406.62</td>\n",
       "      <td>6551.42</td>\n",
       "      <td>217.998085</td>\n",
       "      <td>7.866</td>\n",
       "    </tr>\n",
       "    <tr>\n",
       "      <th>6589</th>\n",
       "      <td>1</td>\n",
       "      <td>3</td>\n",
       "      <td>2011-11-11</td>\n",
       "      <td>9959.64</td>\n",
       "      <td>False</td>\n",
       "      <td>59.11</td>\n",
       "      <td>3.297</td>\n",
       "      <td>10382.9</td>\n",
       "      <td>6115.67</td>\n",
       "      <td>215.07</td>\n",
       "      <td>2406.62</td>\n",
       "      <td>6551.42</td>\n",
       "      <td>217.998085</td>\n",
       "      <td>7.866</td>\n",
       "    </tr>\n",
       "    <tr>\n",
       "      <th>6590</th>\n",
       "      <td>1</td>\n",
       "      <td>4</td>\n",
       "      <td>2011-11-11</td>\n",
       "      <td>36826.52</td>\n",
       "      <td>False</td>\n",
       "      <td>59.11</td>\n",
       "      <td>3.297</td>\n",
       "      <td>10382.9</td>\n",
       "      <td>6115.67</td>\n",
       "      <td>215.07</td>\n",
       "      <td>2406.62</td>\n",
       "      <td>6551.42</td>\n",
       "      <td>217.998085</td>\n",
       "      <td>7.866</td>\n",
       "    </tr>\n",
       "    <tr>\n",
       "      <th>6591</th>\n",
       "      <td>1</td>\n",
       "      <td>5</td>\n",
       "      <td>2011-11-11</td>\n",
       "      <td>31002.65</td>\n",
       "      <td>False</td>\n",
       "      <td>59.11</td>\n",
       "      <td>3.297</td>\n",
       "      <td>10382.9</td>\n",
       "      <td>6115.67</td>\n",
       "      <td>215.07</td>\n",
       "      <td>2406.62</td>\n",
       "      <td>6551.42</td>\n",
       "      <td>217.998085</td>\n",
       "      <td>7.866</td>\n",
       "    </tr>\n",
       "  </tbody>\n",
       "</table>\n",
       "</div>"
      ],
      "text/plain": [
       "      Store  Dept        Date  Weekly_Sales  IsHoliday  Temperature  \\\n",
       "6587      1     1  2011-11-11      18689.54      False        59.11   \n",
       "6588      1     2  2011-11-11      44936.47      False        59.11   \n",
       "6589      1     3  2011-11-11       9959.64      False        59.11   \n",
       "6590      1     4  2011-11-11      36826.52      False        59.11   \n",
       "6591      1     5  2011-11-11      31002.65      False        59.11   \n",
       "\n",
       "      Fuel_Price  MarkDown1  MarkDown2  MarkDown3  MarkDown4  MarkDown5  \\\n",
       "6587       3.297    10382.9    6115.67     215.07    2406.62    6551.42   \n",
       "6588       3.297    10382.9    6115.67     215.07    2406.62    6551.42   \n",
       "6589       3.297    10382.9    6115.67     215.07    2406.62    6551.42   \n",
       "6590       3.297    10382.9    6115.67     215.07    2406.62    6551.42   \n",
       "6591       3.297    10382.9    6115.67     215.07    2406.62    6551.42   \n",
       "\n",
       "             CPI  Unemployment  \n",
       "6587  217.998085         7.866  \n",
       "6588  217.998085         7.866  \n",
       "6589  217.998085         7.866  \n",
       "6590  217.998085         7.866  \n",
       "6591  217.998085         7.866  "
      ]
     },
     "execution_count": 11,
     "metadata": {},
     "output_type": "execute_result"
    }
   ],
   "source": [
    "#clean data dropna\n",
    "finaldrop = final.dropna()\n",
    "finaldrop.head()"
   ]
  },
  {
   "cell_type": "code",
   "execution_count": 12,
   "metadata": {
    "scrolled": true
   },
   "outputs": [
    {
     "data": {
      "image/png": "[encoded data removed]",
      "text/plain": [
       "<Figure size 432x288 with 1 Axes>"
      ]
     },
     "metadata": {},
     "output_type": "display_data"
    }
   ],
   "source": [
    "axdrop = finaldrop[['MarkDown1','MarkDown2','MarkDown3','MarkDown4','MarkDown5']].plot.hist(bins=50, alpha=0.3)"
   ]
  },
  {
   "cell_type": "code",
   "execution_count": null,
   "metadata": {},
   "outputs": [],
   "source": [
    "#finalx is fill mean\n",
    "#finaldrop is drop\n",
    "#finalfill is fill with 0"
   ]
  },
  {
   "cell_type": "markdown",
   "metadata": {},
   "source": [
    "# Correlation"
   ]
  },
  {
   "cell_type": "code",
   "execution_count": 13,
   "metadata": {},
   "outputs": [
    {
     "name": "stdout",
     "output_type": "stream",
     "text": [
      "<class 'pandas.core.frame.DataFrame'>\n",
      "Int64Index: 421570 entries, 0 to 421569\n",
      "Data columns (total 14 columns):\n",
      "Store           421570 non-null int64\n",
      "Dept            421570 non-null int64\n",
      "Date            421570 non-null object\n",
      "Weekly_Sales    421570 non-null float64\n",
      "IsHoliday       421570 non-null bool\n",
      "Temperature     421570 non-null float64\n",
      "Fuel_Price      421570 non-null float64\n",
      "MarkDown1       150681 non-null float64\n",
      "MarkDown2       111248 non-null float64\n",
      "MarkDown3       137091 non-null float64\n",
      "MarkDown4       134967 non-null float64\n",
      "MarkDown5       151432 non-null float64\n",
      "CPI             421570 non-null float64\n",
      "Unemployment    421570 non-null float64\n",
      "dtypes: bool(1), float64(10), int64(2), object(1)\n",
      "memory usage: 45.4+ MB\n"
     ]
    }
   ],
   "source": [
    "final.info()"
   ]
  },
  {
   "cell_type": "code",
   "execution_count": 14,
   "metadata": {},
   "outputs": [
    {
     "name": "stdout",
     "output_type": "stream",
     "text": [
      "[[ 1.00000000e+00 -1.20295545e-04]\n",
      " [-1.20295545e-04  1.00000000e+00]]\n"
     ]
    },
    {
     "data": {
      "text/plain": [
       "<matplotlib.collections.PathCollection at 0x1c2296b518>"
      ]
     },
     "execution_count": 14,
     "metadata": {},
     "output_type": "execute_result"
    },
    {
     "data": {
      "image/png": "[encoded data removed]",
      "text/plain": [
       "<Figure size 432x288 with 1 Axes>"
      ]
     },
     "metadata": {},
     "output_type": "display_data"
    }
   ],
   "source": [
    "#find correlation Weekly Sales and Fuel Price\n",
    "x , y = final.Weekly_Sales, final.Fuel_Price\n",
    "print(np.corrcoef(x,y))\n",
    "plt.scatter(x,y)"
   ]
  },
  {
   "cell_type": "code",
   "execution_count": 15,
   "metadata": {
    "scrolled": true
   },
   "outputs": [
    {
     "name": "stdout",
     "output_type": "stream",
     "text": [
      "[[ 1.         -0.02092134]\n",
      " [-0.02092134  1.        ]]\n"
     ]
    },
    {
     "data": {
      "text/plain": [
       "<matplotlib.collections.PathCollection at 0x1c0d433668>"
      ]
     },
     "execution_count": 15,
     "metadata": {},
     "output_type": "execute_result"
    },
    {
     "data": {
      "image/png": "[encoded data removed]",
      "text/plain": [
       "<Figure size 432x288 with 1 Axes>"
      ]
     },
     "metadata": {},
     "output_type": "display_data"
    }
   ],
   "source": [
    "#find correlation\n",
    "x , y = final.Weekly_Sales, final.CPI\n",
    "print(np.corrcoef(x,y))\n",
    "plt.scatter(x,y)"
   ]
  },
  {
   "cell_type": "code",
   "execution_count": 16,
   "metadata": {
    "scrolled": false
   },
   "outputs": [
    {
     "name": "stdout",
     "output_type": "stream",
     "text": [
      "[[nan nan]\n",
      " [nan nan]]\n"
     ]
    },
    {
     "data": {
      "text/plain": [
       "<matplotlib.collections.PathCollection at 0x1c1b167d68>"
      ]
     },
     "execution_count": 16,
     "metadata": {},
     "output_type": "execute_result"
    },
    {
     "data": {
      "image/png": "[encoded data removed]",
      "text/plain": [
       "<Figure size 432x288 with 1 Axes>"
      ]
     },
     "metadata": {},
     "output_type": "display_data"
    }
   ],
   "source": [
    "#find correlation\n",
    "x , y = final.MarkDown1, final.MarkDown4\n",
    "print(np.corrcoef(x,y))\n",
    "plt.scatter(x,y)"
   ]
  },
  {
   "cell_type": "code",
   "execution_count": 18,
   "metadata": {},
   "outputs": [
    {
     "name": "stdout",
     "output_type": "stream",
     "text": [
      "[[1.         0.78534109]\n",
      " [0.78534109 1.        ]]\n"
     ]
    },
    {
     "data": {
      "text/plain": [
       "<matplotlib.collections.PathCollection at 0x1c1b29e7b8>"
      ]
     },
     "execution_count": 18,
     "metadata": {},
     "output_type": "execute_result"
    },
    {
     "data": {
      "image/png": "[encoded data removed]",
      "text/plain": [
       "<Figure size 432x288 with 1 Axes>"
      ]
     },
     "metadata": {},
     "output_type": "display_data"
    }
   ],
   "source": [
    "#find correlation\n",
    "x , y = finalx.MarkDown1, finalx.MarkDown4\n",
    "print(np.corrcoef(x,y))\n",
    "plt.scatter(x,y)"
   ]
  },
  {
   "cell_type": "markdown",
   "metadata": {},
   "source": [
    "Correlated"
   ]
  },
  {
   "cell_type": "code",
   "execution_count": 19,
   "metadata": {
    "scrolled": false
   },
   "outputs": [
    {
     "name": "stdout",
     "output_type": "stream",
     "text": [
      "[[1.         0.78534109]\n",
      " [0.78534109 1.        ]]\n"
     ]
    },
    {
     "data": {
      "text/plain": [
       "<matplotlib.collections.PathCollection at 0x1c1b278cf8>"
      ]
     },
     "execution_count": 19,
     "metadata": {},
     "output_type": "execute_result"
    },
    {
     "data": {
      "image/png": "[encoded data removed]",
      "text/plain": [
       "<Figure size 432x288 with 1 Axes>"
      ]
     },
     "metadata": {},
     "output_type": "display_data"
    }
   ],
   "source": [
    "#find correlation\n",
    "x , y = finalx.MarkDown1, finalx.MarkDown4\n",
    "print(np.corrcoef(x,y))\n",
    "plt.scatter(x,y)"
   ]
  },
  {
   "cell_type": "markdown",
   "metadata": {},
   "source": [
    "# Heat Map (Optional)"
   ]
  },
  {
   "cell_type": "code",
   "execution_count": 20,
   "metadata": {},
   "outputs": [],
   "source": [
    "#fancy heat map thing\n",
    "import numpy as np\n",
    "import matplotlib\n",
    "import matplotlib.pyplot as plt\n",
    "import seaborn as sns\n"
   ]
  },
  {
   "cell_type": "code",
   "execution_count": 87,
   "metadata": {},
   "outputs": [
    {
     "ename": "TypeError",
     "evalue": "Image data cannot be converted to float",
     "output_type": "error",
     "traceback": [
      "\u001b[0;31m---------------------------------------------------------------------------\u001b[0m",
      "\u001b[0;31mTypeError\u001b[0m                                 Traceback (most recent call last)",
      "\u001b[0;32m<ipython-input-87-2fb4c904861d>\u001b[0m in \u001b[0;36m<module>\u001b[0;34m()\u001b[0m\n\u001b[1;32m      5\u001b[0m \u001b[0;34m\u001b[0m\u001b[0m\n\u001b[1;32m      6\u001b[0m \u001b[0mfig\u001b[0m\u001b[0;34m,\u001b[0m \u001b[0max\u001b[0m \u001b[0;34m=\u001b[0m \u001b[0mplt\u001b[0m\u001b[0;34m.\u001b[0m\u001b[0msubplots\u001b[0m\u001b[0;34m(\u001b[0m\u001b[0;34m)\u001b[0m\u001b[0;34m\u001b[0m\u001b[0m\n\u001b[0;32m----> 7\u001b[0;31m \u001b[0mim\u001b[0m \u001b[0;34m=\u001b[0m \u001b[0max\u001b[0m\u001b[0;34m.\u001b[0m\u001b[0mimshow\u001b[0m\u001b[0;34m(\u001b[0m\u001b[0mdata\u001b[0m\u001b[0;34m,\u001b[0m \u001b[0mcmap\u001b[0m\u001b[0;34m=\u001b[0m\u001b[0;34m'Blues'\u001b[0m\u001b[0;34m)\u001b[0m\u001b[0;34m\u001b[0m\u001b[0m\n\u001b[0m\u001b[1;32m      8\u001b[0m \u001b[0;34m\u001b[0m\u001b[0m\n\u001b[1;32m      9\u001b[0m \u001b[0;31m# We want to show all ticks...\u001b[0m\u001b[0;34m\u001b[0m\u001b[0;34m\u001b[0m\u001b[0m\n",
      "\u001b[0;32m~/anaconda3/lib/python3.6/site-packages/matplotlib/__init__.py\u001b[0m in \u001b[0;36minner\u001b[0;34m(ax, *args, **kwargs)\u001b[0m\n\u001b[1;32m   1853\u001b[0m                         \u001b[0;34m\"the Matplotlib list!)\"\u001b[0m \u001b[0;34m%\u001b[0m \u001b[0;34m(\u001b[0m\u001b[0mlabel_namer\u001b[0m\u001b[0;34m,\u001b[0m \u001b[0mfunc\u001b[0m\u001b[0;34m.\u001b[0m\u001b[0m__name__\u001b[0m\u001b[0;34m)\u001b[0m\u001b[0;34m,\u001b[0m\u001b[0;34m\u001b[0m\u001b[0m\n\u001b[1;32m   1854\u001b[0m                         RuntimeWarning, stacklevel=2)\n\u001b[0;32m-> 1855\u001b[0;31m             \u001b[0;32mreturn\u001b[0m \u001b[0mfunc\u001b[0m\u001b[0;34m(\u001b[0m\u001b[0max\u001b[0m\u001b[0;34m,\u001b[0m \u001b[0;34m*\u001b[0m\u001b[0margs\u001b[0m\u001b[0;34m,\u001b[0m \u001b[0;34m**\u001b[0m\u001b[0mkwargs\u001b[0m\u001b[0;34m)\u001b[0m\u001b[0;34m\u001b[0m\u001b[0m\n\u001b[0m\u001b[1;32m   1856\u001b[0m \u001b[0;34m\u001b[0m\u001b[0m\n\u001b[1;32m   1857\u001b[0m         inner.__doc__ = _add_data_doc(inner.__doc__,\n",
      "\u001b[0;32m~/anaconda3/lib/python3.6/site-packages/matplotlib/axes/_axes.py\u001b[0m in \u001b[0;36mimshow\u001b[0;34m(self, X, cmap, norm, aspect, interpolation, alpha, vmin, vmax, origin, extent, shape, filternorm, filterrad, imlim, resample, url, **kwargs)\u001b[0m\n\u001b[1;32m   5485\u001b[0m                               resample=resample, **kwargs)\n\u001b[1;32m   5486\u001b[0m \u001b[0;34m\u001b[0m\u001b[0m\n\u001b[0;32m-> 5487\u001b[0;31m         \u001b[0mim\u001b[0m\u001b[0;34m.\u001b[0m\u001b[0mset_data\u001b[0m\u001b[0;34m(\u001b[0m\u001b[0mX\u001b[0m\u001b[0;34m)\u001b[0m\u001b[0;34m\u001b[0m\u001b[0m\n\u001b[0m\u001b[1;32m   5488\u001b[0m         \u001b[0mim\u001b[0m\u001b[0;34m.\u001b[0m\u001b[0mset_alpha\u001b[0m\u001b[0;34m(\u001b[0m\u001b[0malpha\u001b[0m\u001b[0;34m)\u001b[0m\u001b[0;34m\u001b[0m\u001b[0m\n\u001b[1;32m   5489\u001b[0m         \u001b[0;32mif\u001b[0m \u001b[0mim\u001b[0m\u001b[0;34m.\u001b[0m\u001b[0mget_clip_path\u001b[0m\u001b[0;34m(\u001b[0m\u001b[0;34m)\u001b[0m \u001b[0;32mis\u001b[0m \u001b[0;32mNone\u001b[0m\u001b[0;34m:\u001b[0m\u001b[0;34m\u001b[0m\u001b[0m\n",
      "\u001b[0;32m~/anaconda3/lib/python3.6/site-packages/matplotlib/image.py\u001b[0m in \u001b[0;36mset_data\u001b[0;34m(self, A)\u001b[0m\n\u001b[1;32m    647\u001b[0m         if (self._A.dtype != np.uint8 and\n\u001b[1;32m    648\u001b[0m                 not np.can_cast(self._A.dtype, float, \"same_kind\")):\n\u001b[0;32m--> 649\u001b[0;31m             \u001b[0;32mraise\u001b[0m \u001b[0mTypeError\u001b[0m\u001b[0;34m(\u001b[0m\u001b[0;34m\"Image data cannot be converted to float\"\u001b[0m\u001b[0;34m)\u001b[0m\u001b[0;34m\u001b[0m\u001b[0m\n\u001b[0m\u001b[1;32m    650\u001b[0m \u001b[0;34m\u001b[0m\u001b[0m\n\u001b[1;32m    651\u001b[0m         if not (self._A.ndim == 2\n",
      "\u001b[0;31mTypeError\u001b[0m: Image data cannot be converted to float"
     ]
    },
    {
     "data": {
      "image/png": "[encoded data removed]",
      "text/plain": [
       "<Figure size 432x288 with 1 Axes>"
      ]
     },
     "metadata": {},
     "output_type": "display_data"
    }
   ],
   "source": [
    "y_labels = finalx.index\n",
    "x_labels = finalx.columns\n",
    "data = np.array(finalx)\n",
    "\n",
    "\n",
    "fig, ax = plt.subplots()\n",
    "im = ax.imshow(data, cmap='Blues')\n",
    "\n",
    "# We want to show all ticks...\n",
    "ax.set_xticks(np.arange(len(x_labels)))\n",
    "ax.set_yticks(np.arange(len(y_labels)))\n",
    "# ... and label them with the respective list entries\n",
    "ax.set_xticklabels(x_labels)\n",
    "ax.set_yticklabels(y_labels)\n",
    "\n",
    "# Rotate the tick labels and set their alignment.\n",
    "plt.setp(ax.get_xticklabels(), rotation=45, ha=\"right\",\n",
    "         rotation_mode=\"anchor\")\n",
    "\n",
    "# Loop over data dimensions and create text annotations.\n",
    "for i in range(len(y_labels)):\n",
    "    for j in range(len(x_labels)):\n",
    "        value = data[i, j]\n",
    "        if value < .5:\n",
    "            text_color = 'black'\n",
    "        else:\n",
    "            text_color = 'white'\n",
    "        text = ax.text(j, i, value,\n",
    "                       ha=\"center\", va=\"center\", color=text_color)\n",
    "\n",
    "ax.set_title(\"Walmart Weekly Sales\")\n",
    "\n",
    "# Create colorbar\n",
    "cbar = ax.figure.colorbar(im, ax=ax)\n",
    "cbar.ax.set_ylabel('Age Group Percentage', rotation=-90, va=\"bottom\")\n",
    "\n",
    "plt.xlabel('Senior Citizen Flag')\n",
    "plt.ylabel('Type of Internet Service')\n",
    "fig.tight_layout()\n",
    "plt.show()"
   ]
  },
  {
   "cell_type": "code",
   "execution_count": null,
   "metadata": {},
   "outputs": [],
   "source": [
    "#test\n",
    "weights = pd.DataFrame.from_dict(weight_dict, orient='index').reset_index()\n",
    "weights.columns = ['Feature', 'Original_Weight']\n",
    "weights['New_Weight'] = weights.Feature.map(new_weight_dict)\n",
    "weights['Change'] = np.abs(weights['New_Weight'] - weights['Original_Weight']) #Net change (absolute value)\n",
    "weights = weights.sort_values(by='Change', ascending=False)\n",
    "weights['MkDwn4_Corr'] = weights.Feature.map(lambda feat: np.corrcoef(df.MarkDown4, df[feat])[0][1])\n",
    "weights['Percent_Change'] = weights.Change / weights.Original_Weight\n",
    "weights.sort_values(by='Percent_Change', ascending=False)"
   ]
  },
  {
   "cell_type": "code",
   "execution_count": null,
   "metadata": {},
   "outputs": [],
   "source": [
    "#finalx is fill mean\n",
    "#finaldrop is drop\n",
    "#finalfill is fill with 0"
   ]
  },
  {
   "cell_type": "markdown",
   "metadata": {},
   "source": [
    "# Initial Model"
   ]
  },
  {
   "cell_type": "code",
   "execution_count": 21,
   "metadata": {},
   "outputs": [],
   "source": [
    "#finalx\n",
    "for col in ['Store', 'Dept']:# makes a bunch of colums into numeric \"dummy\" values at the same time\n",
    "   finalx[col] = finalx[col].astype(str) #Make nonumeric"
   ]
  },
  {
   "cell_type": "code",
   "execution_count": 22,
   "metadata": {
    "scrolled": true
   },
   "outputs": [
    {
     "data": {
      "text/plain": [
       "0    391909\n",
       "1     29661\n",
       "Name: IsHoliday, dtype: int64"
      ]
     },
     "execution_count": 22,
     "metadata": {},
     "output_type": "execute_result"
    }
   ],
   "source": [
    "#Convert category to number\n",
    "finalx.IsHoliday = finalx.IsHoliday.map({True:1, False:0})# convert category into numeric so IsHoliday column can be use in analysis\n",
    "finalx.IsHoliday.value_counts()"
   ]
  },
  {
   "cell_type": "code",
   "execution_count": 31,
   "metadata": {
    "scrolled": false
   },
   "outputs": [
    {
     "name": "stdout",
     "output_type": "stream",
     "text": [
      "R^2 model score: 0.03816897385186535 \n",
      "\n",
      "Model feature coefficients:\n",
      "Store Coefficient weight: -154.26489\n",
      "Temperature Coefficient weight: 11.6127\n",
      "Fuel_Price Coefficient weight: -100.75134\n",
      "MarkDown1 Coefficient weight: 0.28079\n",
      "MarkDown2 Coefficient weight: 0.06058\n",
      "MarkDown3 Coefficient weight: 0.16901\n",
      "MarkDown4 Coefficient weight: -0.15949\n",
      "MarkDown5 Coefficient weight: 0.31563\n",
      "CPI Coefficient weight: -27.59911\n",
      "Unemployment Coefficient weight: -315.2619\n",
      "Dept Coefficient weight: 111.74661\n"
     ]
    }
   ],
   "source": [
    "#multicorrelation \n",
    "from sklearn.linear_model import LinearRegression\n",
    "\n",
    "X = finalx[['Store', 'Temperature', 'Fuel_Price', 'MarkDown1', 'MarkDown2', 'MarkDown3',\n",
    "        'MarkDown4', 'MarkDown5', 'CPI', 'Unemployment', 'Dept']] #Only numeric features work\n",
    "\n",
    "y = finalx['Weekly_Sales']\n",
    "\n",
    "linreg = LinearRegression()\n",
    "linreg.fit(X, y)\n",
    "\n",
    "final['Estimated_Weekly_Sales'] = linreg.predict(X)\n",
    "print('R^2 model score:', linreg.score(X,y), '\\n')\n",
    "\n",
    "print('Model feature coefficients:')\n",
    "weight_dict = dict(zip(X.columns, linreg.coef_))\n",
    "for feat, coeff in list(zip(X.columns, linreg.coef_)):\n",
    "    print(feat, 'Coefficient weight: {}'.format(round(coeff, 5)))"
   ]
  },
  {
   "cell_type": "code",
   "execution_count": 32,
   "metadata": {
    "scrolled": true
   },
   "outputs": [
    {
     "name": "stdout",
     "output_type": "stream",
     "text": [
      "R^2 model score: 0.19586751211489817 \n",
      "\n",
      "Model feature coefficients:\n",
      "Store Coefficient weight: -0.39356\n",
      "Temperature Coefficient weight: 0.49498\n",
      "Fuel_Price Coefficient weight: -16.85178\n",
      "MarkDown1 Coefficient weight: -0.00023\n",
      "MarkDown2 Coefficient weight: 4e-05\n",
      "MarkDown3 Coefficient weight: -7e-05\n",
      "MarkDown4 Coefficient weight: -1e-05\n",
      "MarkDown5 Coefficient weight: 0.00038\n",
      "Unemployment Coefficient weight: -6.35834\n",
      "Weekly_Sales Coefficient weight: -7e-05\n",
      "Dept Coefficient weight: 0.0045\n"
     ]
    }
   ],
   "source": [
    "#multicorrelation without dummies\n",
    "from sklearn.linear_model import LinearRegression\n",
    "\n",
    "my_X = finalx[['Store', 'Temperature', 'Fuel_Price', 'MarkDown1', 'MarkDown2', 'MarkDown3',\n",
    "        'MarkDown4', 'MarkDown5', 'Unemployment', 'Weekly_Sales', 'Dept']] #Only numeric features work\n",
    "\n",
    "my_y = finalx['CPI']\n",
    "\n",
    "linreg = LinearRegression()\n",
    "linreg.fit(my_X, my_y)\n",
    "\n",
    "final['Estimated_Weekly_Sales'] = linreg.predict(X)\n",
    "print('R^2 model score:', linreg.score(my_X,my_y), '\\n')\n",
    "\n",
    "print('Model feature coefficients:')\n",
    "new_weight_dict = dict(zip(my_X.columns, linreg.coef_))\n",
    "for feat, coeff in list(zip(my_X.columns, linreg.coef_)):\n",
    "    print(feat, 'Coefficient weight: {}'.format(round(coeff, 5)))"
   ]
  },
  {
   "cell_type": "code",
   "execution_count": null,
   "metadata": {},
   "outputs": [],
   "source": []
  },
  {
   "cell_type": "code",
   "execution_count": 33,
   "metadata": {},
   "outputs": [],
   "source": [
    "from sklearn.model_selection import train_test_split\n",
    "from sklearn.metrics import mean_squared_error\n"
   ]
  },
  {
   "cell_type": "code",
   "execution_count": 34,
   "metadata": {},
   "outputs": [],
   "source": [
    "X_train, X_test, y_train, y_test = train_test_split(X, y, random_state=0)\n"
   ]
  },
  {
   "cell_type": "code",
   "execution_count": 27,
   "metadata": {},
   "outputs": [
    {
     "name": "stdout",
     "output_type": "stream",
     "text": [
      "Train Mean Squared Error: 22227.28058980491\n",
      "Test Mean Squared Error: 22412.143768669845\n"
     ]
    }
   ],
   "source": [
    "#choosing a model\n",
    "mod = LinearRegression() #run regression\n",
    "mod.fit(X_train, y_train) #fit\n",
    "#predicting\n",
    "y_hat_train = mod.predict(X_train) #predict\n",
    "y_hat_test = mod.predict(X_test) #never seen the test\n",
    "\n",
    "#calculate and choose error\n",
    "train_mse = np.sqrt(mean_squared_error(y_train,y_hat_train))\n",
    "test_mse = np.sqrt(mean_squared_error(y_test, y_hat_test))\n",
    "\n",
    "print('Train Mean Squared Error:', train_mse)\n",
    "print('Test Mean Squared Error:', test_mse)\n",
    "\n",
    "#if train and test data is not close to one another\n",
    "#overfit training data, test data is not similar enough to train data\n"
   ]
  },
  {
   "cell_type": "code",
   "execution_count": null,
   "metadata": {},
   "outputs": [],
   "source": [
    "#test - weighted\n",
    "weights = pd.DataFrame.from_dict(weight_dict, orient='index').reset_index()\n",
    "weights.columns = ['Feature', 'Original_Weight']\n",
    "weights['New_Weight'] = weights.Feature.map(new_weight_dict)\n",
    "weights['Change'] = np.abs(weights['New_Weight'] - weights['Original_Weight']) #Net change (absolute value)\n",
    "weights = weights.sort_values(by='Change', ascending=False)\n",
    "weights['MkDwn4_Corr'] = weights.Feature.map(lambda feat: np.corrcoef(final.MarkDown4, final[feat])[0][1])\n",
    "weights['Percent_Change'] = weights.Change / weights.Original_Weight\n",
    "weights.sort_values(by='Percent_Change', ascending=True)"
   ]
  },
  {
   "cell_type": "markdown",
   "metadata": {},
   "source": [
    "# Dummy Variables"
   ]
  },
  {
   "cell_type": "code",
   "execution_count": 28,
   "metadata": {
    "scrolled": false
   },
   "outputs": [
    {
     "data": {
      "text/html": [
       "<div>\n",
       "<style scoped>\n",
       "    .dataframe tbody tr th:only-of-type {\n",
       "        vertical-align: middle;\n",
       "    }\n",
       "\n",
       "    .dataframe tbody tr th {\n",
       "        vertical-align: top;\n",
       "    }\n",
       "\n",
       "    .dataframe thead th {\n",
       "        text-align: right;\n",
       "    }\n",
       "</style>\n",
       "<table border=\"1\" class=\"dataframe\">\n",
       "  <thead>\n",
       "    <tr style=\"text-align: right;\">\n",
       "      <th></th>\n",
       "      <th>Temperature</th>\n",
       "      <th>Fuel_Price</th>\n",
       "      <th>MarkDown1</th>\n",
       "      <th>MarkDown2</th>\n",
       "      <th>MarkDown3</th>\n",
       "      <th>MarkDown4</th>\n",
       "      <th>MarkDown5</th>\n",
       "      <th>CPI</th>\n",
       "      <th>Unemployment</th>\n",
       "      <th>IsHoliday</th>\n",
       "      <th>...</th>\n",
       "      <th>Dept_90</th>\n",
       "      <th>Dept_91</th>\n",
       "      <th>Dept_92</th>\n",
       "      <th>Dept_93</th>\n",
       "      <th>Dept_94</th>\n",
       "      <th>Dept_95</th>\n",
       "      <th>Dept_96</th>\n",
       "      <th>Dept_97</th>\n",
       "      <th>Dept_98</th>\n",
       "      <th>Dept_99</th>\n",
       "    </tr>\n",
       "  </thead>\n",
       "  <tbody>\n",
       "    <tr>\n",
       "      <th>0</th>\n",
       "      <td>42.31</td>\n",
       "      <td>2.572</td>\n",
       "      <td>7246.420196</td>\n",
       "      <td>3334.628621</td>\n",
       "      <td>1439.421384</td>\n",
       "      <td>3383.168256</td>\n",
       "      <td>4628.975079</td>\n",
       "      <td>211.096358</td>\n",
       "      <td>8.106</td>\n",
       "      <td>0</td>\n",
       "      <td>...</td>\n",
       "      <td>0</td>\n",
       "      <td>0</td>\n",
       "      <td>0</td>\n",
       "      <td>0</td>\n",
       "      <td>0</td>\n",
       "      <td>0</td>\n",
       "      <td>0</td>\n",
       "      <td>0</td>\n",
       "      <td>0</td>\n",
       "      <td>0</td>\n",
       "    </tr>\n",
       "    <tr>\n",
       "      <th>1</th>\n",
       "      <td>42.31</td>\n",
       "      <td>2.572</td>\n",
       "      <td>7246.420196</td>\n",
       "      <td>3334.628621</td>\n",
       "      <td>1439.421384</td>\n",
       "      <td>3383.168256</td>\n",
       "      <td>4628.975079</td>\n",
       "      <td>211.096358</td>\n",
       "      <td>8.106</td>\n",
       "      <td>0</td>\n",
       "      <td>...</td>\n",
       "      <td>0</td>\n",
       "      <td>0</td>\n",
       "      <td>0</td>\n",
       "      <td>0</td>\n",
       "      <td>0</td>\n",
       "      <td>0</td>\n",
       "      <td>0</td>\n",
       "      <td>0</td>\n",
       "      <td>0</td>\n",
       "      <td>0</td>\n",
       "    </tr>\n",
       "    <tr>\n",
       "      <th>2</th>\n",
       "      <td>42.31</td>\n",
       "      <td>2.572</td>\n",
       "      <td>7246.420196</td>\n",
       "      <td>3334.628621</td>\n",
       "      <td>1439.421384</td>\n",
       "      <td>3383.168256</td>\n",
       "      <td>4628.975079</td>\n",
       "      <td>211.096358</td>\n",
       "      <td>8.106</td>\n",
       "      <td>0</td>\n",
       "      <td>...</td>\n",
       "      <td>0</td>\n",
       "      <td>0</td>\n",
       "      <td>0</td>\n",
       "      <td>0</td>\n",
       "      <td>0</td>\n",
       "      <td>0</td>\n",
       "      <td>0</td>\n",
       "      <td>0</td>\n",
       "      <td>0</td>\n",
       "      <td>0</td>\n",
       "    </tr>\n",
       "    <tr>\n",
       "      <th>3</th>\n",
       "      <td>42.31</td>\n",
       "      <td>2.572</td>\n",
       "      <td>7246.420196</td>\n",
       "      <td>3334.628621</td>\n",
       "      <td>1439.421384</td>\n",
       "      <td>3383.168256</td>\n",
       "      <td>4628.975079</td>\n",
       "      <td>211.096358</td>\n",
       "      <td>8.106</td>\n",
       "      <td>0</td>\n",
       "      <td>...</td>\n",
       "      <td>0</td>\n",
       "      <td>0</td>\n",
       "      <td>0</td>\n",
       "      <td>0</td>\n",
       "      <td>0</td>\n",
       "      <td>0</td>\n",
       "      <td>0</td>\n",
       "      <td>0</td>\n",
       "      <td>0</td>\n",
       "      <td>0</td>\n",
       "    </tr>\n",
       "    <tr>\n",
       "      <th>4</th>\n",
       "      <td>42.31</td>\n",
       "      <td>2.572</td>\n",
       "      <td>7246.420196</td>\n",
       "      <td>3334.628621</td>\n",
       "      <td>1439.421384</td>\n",
       "      <td>3383.168256</td>\n",
       "      <td>4628.975079</td>\n",
       "      <td>211.096358</td>\n",
       "      <td>8.106</td>\n",
       "      <td>0</td>\n",
       "      <td>...</td>\n",
       "      <td>0</td>\n",
       "      <td>0</td>\n",
       "      <td>0</td>\n",
       "      <td>0</td>\n",
       "      <td>0</td>\n",
       "      <td>0</td>\n",
       "      <td>0</td>\n",
       "      <td>0</td>\n",
       "      <td>0</td>\n",
       "      <td>0</td>\n",
       "    </tr>\n",
       "  </tbody>\n",
       "</table>\n",
       "<p>5 rows × 136 columns</p>\n",
       "</div>"
      ],
      "text/plain": [
       "   Temperature  Fuel_Price    MarkDown1    MarkDown2    MarkDown3  \\\n",
       "0        42.31       2.572  7246.420196  3334.628621  1439.421384   \n",
       "1        42.31       2.572  7246.420196  3334.628621  1439.421384   \n",
       "2        42.31       2.572  7246.420196  3334.628621  1439.421384   \n",
       "3        42.31       2.572  7246.420196  3334.628621  1439.421384   \n",
       "4        42.31       2.572  7246.420196  3334.628621  1439.421384   \n",
       "\n",
       "     MarkDown4    MarkDown5         CPI  Unemployment  IsHoliday   ...     \\\n",
       "0  3383.168256  4628.975079  211.096358         8.106          0   ...      \n",
       "1  3383.168256  4628.975079  211.096358         8.106          0   ...      \n",
       "2  3383.168256  4628.975079  211.096358         8.106          0   ...      \n",
       "3  3383.168256  4628.975079  211.096358         8.106          0   ...      \n",
       "4  3383.168256  4628.975079  211.096358         8.106          0   ...      \n",
       "\n",
       "   Dept_90  Dept_91  Dept_92  Dept_93  Dept_94  Dept_95  Dept_96  Dept_97  \\\n",
       "0        0        0        0        0        0        0        0        0   \n",
       "1        0        0        0        0        0        0        0        0   \n",
       "2        0        0        0        0        0        0        0        0   \n",
       "3        0        0        0        0        0        0        0        0   \n",
       "4        0        0        0        0        0        0        0        0   \n",
       "\n",
       "   Dept_98  Dept_99  \n",
       "0        0        0  \n",
       "1        0        0  \n",
       "2        0        0  \n",
       "3        0        0  \n",
       "4        0        0  \n",
       "\n",
       "[5 rows x 136 columns]"
      ]
     },
     "execution_count": 28,
     "metadata": {},
     "output_type": "execute_result"
    }
   ],
   "source": [
    "NewX = pd.get_dummies(finalx[['Store', 'Temperature', 'Fuel_Price', 'MarkDown1', 'MarkDown2', 'MarkDown3', 'MarkDown4',\n",
    "       'MarkDown5', 'CPI', 'Unemployment', 'Dept', 'IsHoliday']])\n",
    "NewX.head()"
   ]
  },
  {
   "cell_type": "code",
   "execution_count": 29,
   "metadata": {},
   "outputs": [
    {
     "name": "stdout",
     "output_type": "stream",
     "text": [
      "R^2 model score: 0.6578994523464625 \n",
      "\n",
      "Model feature coefficients:\n",
      "Temperature Coefficient weight: -13.01632\n",
      "Fuel_Price Coefficient weight: -673.03085\n",
      "MarkDown1 Coefficient weight: -0.00634\n",
      "MarkDown2 Coefficient weight: -0.04538\n",
      "MarkDown3 Coefficient weight: 0.09967\n",
      "MarkDown4 Coefficient weight: -0.0174\n",
      "MarkDown5 Coefficient weight: 0.03448\n",
      "CPI Coefficient weight: 32.72319\n",
      "Unemployment Coefficient weight: -415.69173\n",
      "IsHoliday Coefficient weight: 634.171\n",
      "Store_1 Coefficient weight: -15775429487.55376\n",
      "Store_10 Coefficient weight: -15775421162.19104\n",
      "Store_11 Coefficient weight: -15775432516.25386\n",
      "Store_12 Coefficient weight: -15775431458.2864\n",
      "Store_13 Coefficient weight: -15775421059.63722\n",
      "Store_14 Coefficient weight: -15775421176.10351\n",
      "Store_15 Coefficient weight: -15775439801.29777\n",
      "Store_16 Coefficient weight: -15775444183.91181\n",
      "Store_17 Coefficient weight: -15775436315.55674\n",
      "Store_18 Coefficient weight: -15775432714.97013\n",
      "Store_19 Coefficient weight: -15775428170.59312\n",
      "Store_2 Coefficient weight: -15775424306.11195\n",
      "Store_20 Coefficient weight: -15775421442.51599\n",
      "Store_21 Coefficient weight: -15775440581.91898\n",
      "Store_22 Coefficient weight: -15775433948.27006\n",
      "Store_23 Coefficient weight: -15775430209.38386\n",
      "Store_24 Coefficient weight: -15775429229.04682\n",
      "Store_25 Coefficient weight: -15775441244.0601\n",
      "Store_26 Coefficient weight: -15775434736.82276\n",
      "Store_27 Coefficient weight: -15775423652.94045\n",
      "Store_28 Coefficient weight: -15775427355.84352\n",
      "Store_29 Coefficient weight: -15775440372.45571\n",
      "Store_3 Coefficient weight: -15775446104.56908\n",
      "Store_30 Coefficient weight: -15775447207.53433\n",
      "Store_31 Coefficient weight: -15775431749.39456\n",
      "Store_32 Coefficient weight: -15775434025.40156\n",
      "Store_33 Coefficient weight: -15775447514.69949\n",
      "Store_34 Coefficient weight: -15775434727.07532\n",
      "Store_35 Coefficient weight: -15775435182.82518\n",
      "Store_36 Coefficient weight: -15775448627.99281\n",
      "Store_37 Coefficient weight: -15775445487.23888\n",
      "Store_38 Coefficient weight: -15775442872.37306\n",
      "Store_39 Coefficient weight: -15775430885.94846\n",
      "Store_4 Coefficient weight: -15775419953.71364\n",
      "Store_40 Coefficient weight: -15775436417.3097\n",
      "Store_41 Coefficient weight: -15775433301.52863\n",
      "Store_42 Coefficient weight: -15775440875.2285\n",
      "Store_43 Coefficient weight: -15775442076.0503\n",
      "Store_44 Coefficient weight: -15775447747.29184\n",
      "Store_45 Coefficient weight: -15775438865.46173\n",
      "Store_5 Coefficient weight: -15775447813.88061\n",
      "Store_6 Coefficient weight: -15775429820.17818\n",
      "Store_7 Coefficient weight: -15775442742.69501\n",
      "Store_8 Coefficient weight: -15775439305.7419\n",
      "Store_9 Coefficient weight: -15775444357.84372\n",
      "Dept_1 Coefficient weight: -35553602.2004\n",
      "Dept_10 Coefficient weight: -35554494.41315\n",
      "Dept_11 Coefficient weight: -35558311.8368\n",
      "Dept_12 Coefficient weight: -35568692.40528\n",
      "Dept_13 Coefficient weight: -35542151.88286\n",
      "Dept_14 Coefficient weight: -35557944.71945\n",
      "Dept_16 Coefficient weight: -35558570.0472\n",
      "Dept_17 Coefficient weight: -35562664.81731\n",
      "Dept_18 Coefficient weight: -35566217.23873\n",
      "Dept_19 Coefficient weight: -35574015.56702\n",
      "Dept_2 Coefficient weight: -35529208.66539\n",
      "Dept_20 Coefficient weight: -35567922.11619\n",
      "Dept_21 Coefficient weight: -35567832.83471\n",
      "Dept_22 Coefficient weight: -35563703.82545\n",
      "Dept_23 Coefficient weight: -35550076.19063\n",
      "Dept_24 Coefficient weight: -35568413.28369\n",
      "Dept_25 Coefficient weight: -35563991.93438\n",
      "Dept_26 Coefficient weight: -35566294.31246\n",
      "Dept_27 Coefficient weight: -35572774.38607\n",
      "Dept_28 Coefficient weight: -35572829.6957\n",
      "Dept_29 Coefficient weight: -35569365.73179\n",
      "Dept_3 Coefficient weight: -35561021.98698\n",
      "Dept_30 Coefficient weight: -35570943.99877\n",
      "Dept_31 Coefficient weight: -35571195.40331\n",
      "Dept_32 Coefficient weight: -35566836.10438\n",
      "Dept_33 Coefficient weight: -35568337.729\n",
      "Dept_34 Coefficient weight: -35559345.45177\n",
      "Dept_35 Coefficient weight: -35572123.39695\n",
      "Dept_36 Coefficient weight: -35573026.16483\n",
      "Dept_37 Coefficient weight: -35576019.43042\n",
      "Dept_38 Coefficient weight: -35511725.06592\n",
      "Dept_39 Coefficient weight: -35580869.77671\n",
      "Dept_4 Coefficient weight: -35546841.05525\n",
      "Dept_40 Coefficient weight: -35527914.98276\n",
      "Dept_41 Coefficient weight: -35572784.36754\n",
      "Dept_42 Coefficient weight: -35567694.91159\n",
      "Dept_43 Coefficient weight: -35571861.33876\n",
      "Dept_44 Coefficient weight: -35569995.52958\n",
      "Dept_45 Coefficient weight: -35575850.40613\n",
      "Dept_46 Coefficient weight: -35552870.94401\n",
      "Dept_47 Coefficient weight: -35576137.03902\n",
      "Dept_48 Coefficient weight: -35577338.57119\n",
      "Dept_49 Coefficient weight: -35567927.51263\n",
      "Dept_5 Coefficient weight: -35551564.64478\n",
      "Dept_50 Coefficient weight: -35576886.49346\n",
      "Dept_51 Coefficient weight: -35574904.36618\n",
      "Dept_52 Coefficient weight: -35571222.00507\n",
      "Dept_54 Coefficient weight: -35575446.78483\n",
      "Dept_55 Coefficient weight: -35563543.25714\n",
      "Dept_56 Coefficient weight: -35570019.8099\n",
      "Dept_58 Coefficient weight: -35572803.83629\n",
      "Dept_59 Coefficient weight: -35572651.98802\n",
      "Dept_6 Coefficient weight: -35568861.93144\n",
      "Dept_60 Coefficient weight: -35572334.13825\n",
      "Dept_65 Coefficient weight: -35525968.12298\n",
      "Dept_67 Coefficient weight: -35565375.0052\n",
      "Dept_7 Coefficient weight: -35548654.44808\n",
      "Dept_71 Coefficient weight: -35569301.06207\n",
      "Dept_72 Coefficient weight: -35522974.54005\n",
      "Dept_74 Coefficient weight: -35559014.18182\n",
      "Dept_77 Coefficient weight: -35577684.83676\n",
      "Dept_78 Coefficient weight: -35576738.67196\n",
      "Dept_79 Coefficient weight: -35550842.64056\n",
      "Dept_8 Coefficient weight: -35542624.42197\n",
      "Dept_80 Coefficient weight: -35561278.9804\n",
      "Dept_81 Coefficient weight: -35557345.28466\n",
      "Dept_82 Coefficient weight: -35557346.05374\n",
      "Dept_83 Coefficient weight: -35570157.02823\n",
      "Dept_85 Coefficient weight: -35571273.55575\n",
      "Dept_87 Coefficient weight: -35559462.65833\n",
      "Dept_9 Coefficient weight: -35552767.00074\n",
      "Dept_90 Coefficient weight: -35527583.601\n",
      "Dept_91 Coefficient weight: -35539127.77473\n",
      "Dept_92 Coefficient weight: -35497610.81496\n",
      "Dept_93 Coefficient weight: -35546528.09997\n",
      "Dept_94 Coefficient weight: -35539890.27029\n",
      "Dept_95 Coefficient weight: -35502991.26241\n",
      "Dept_96 Coefficient weight: -35557367.7586\n",
      "Dept_97 Coefficient weight: -35558729.90404\n",
      "Dept_98 Coefficient weight: -35566559.46584\n",
      "Dept_99 Coefficient weight: -35578515.47716\n"
     ]
    }
   ],
   "source": [
    "#Rerun regression with NewX\n",
    "from sklearn.linear_model import LinearRegression\n",
    "\n",
    "X = NewX\n",
    "y = finalx['Weekly_Sales']\n",
    "\n",
    "linreg = LinearRegression()\n",
    "linreg.fit(X, y)\n",
    "\n",
    "finalx['Estimated_Weekly_Sales'] = linreg.predict(X)\n",
    "print('R^2 model score:', linreg.score(X,y), '\\n')\n",
    "\n",
    "print('Model feature coefficients:')\n",
    "#save result\n",
    "weight_dict = dict(zip(X.columns, linreg.coef_))\n",
    "for feat, coeff in list(zip(X.columns, linreg.coef_)):\n",
    "    print(feat, 'Coefficient weight: {}'.format(round(coeff, 5)))"
   ]
  },
  {
   "cell_type": "markdown",
   "metadata": {},
   "source": [
    "### With 0"
   ]
  },
  {
   "cell_type": "code",
   "execution_count": 30,
   "metadata": {
    "scrolled": false
   },
   "outputs": [
    {
     "data": {
      "text/html": [
       "<div>\n",
       "<style scoped>\n",
       "    .dataframe tbody tr th:only-of-type {\n",
       "        vertical-align: middle;\n",
       "    }\n",
       "\n",
       "    .dataframe tbody tr th {\n",
       "        vertical-align: top;\n",
       "    }\n",
       "\n",
       "    .dataframe thead th {\n",
       "        text-align: right;\n",
       "    }\n",
       "</style>\n",
       "<table border=\"1\" class=\"dataframe\">\n",
       "  <thead>\n",
       "    <tr style=\"text-align: right;\">\n",
       "      <th></th>\n",
       "      <th>Temperature</th>\n",
       "      <th>Fuel_Price</th>\n",
       "      <th>MarkDown1</th>\n",
       "      <th>MarkDown2</th>\n",
       "      <th>MarkDown3</th>\n",
       "      <th>MarkDown4</th>\n",
       "      <th>MarkDown5</th>\n",
       "      <th>CPI</th>\n",
       "      <th>Unemployment</th>\n",
       "      <th>IsHoliday</th>\n",
       "      <th>...</th>\n",
       "      <th>Dept_90</th>\n",
       "      <th>Dept_91</th>\n",
       "      <th>Dept_92</th>\n",
       "      <th>Dept_93</th>\n",
       "      <th>Dept_94</th>\n",
       "      <th>Dept_95</th>\n",
       "      <th>Dept_96</th>\n",
       "      <th>Dept_97</th>\n",
       "      <th>Dept_98</th>\n",
       "      <th>Dept_99</th>\n",
       "    </tr>\n",
       "  </thead>\n",
       "  <tbody>\n",
       "    <tr>\n",
       "      <th>0</th>\n",
       "      <td>42.31</td>\n",
       "      <td>2.572</td>\n",
       "      <td>0.0</td>\n",
       "      <td>0.0</td>\n",
       "      <td>0.0</td>\n",
       "      <td>0.0</td>\n",
       "      <td>0.0</td>\n",
       "      <td>211.096358</td>\n",
       "      <td>8.106</td>\n",
       "      <td>False</td>\n",
       "      <td>...</td>\n",
       "      <td>0</td>\n",
       "      <td>0</td>\n",
       "      <td>0</td>\n",
       "      <td>0</td>\n",
       "      <td>0</td>\n",
       "      <td>0</td>\n",
       "      <td>0</td>\n",
       "      <td>0</td>\n",
       "      <td>0</td>\n",
       "      <td>0</td>\n",
       "    </tr>\n",
       "    <tr>\n",
       "      <th>1</th>\n",
       "      <td>42.31</td>\n",
       "      <td>2.572</td>\n",
       "      <td>0.0</td>\n",
       "      <td>0.0</td>\n",
       "      <td>0.0</td>\n",
       "      <td>0.0</td>\n",
       "      <td>0.0</td>\n",
       "      <td>211.096358</td>\n",
       "      <td>8.106</td>\n",
       "      <td>False</td>\n",
       "      <td>...</td>\n",
       "      <td>0</td>\n",
       "      <td>0</td>\n",
       "      <td>0</td>\n",
       "      <td>0</td>\n",
       "      <td>0</td>\n",
       "      <td>0</td>\n",
       "      <td>0</td>\n",
       "      <td>0</td>\n",
       "      <td>0</td>\n",
       "      <td>0</td>\n",
       "    </tr>\n",
       "    <tr>\n",
       "      <th>2</th>\n",
       "      <td>42.31</td>\n",
       "      <td>2.572</td>\n",
       "      <td>0.0</td>\n",
       "      <td>0.0</td>\n",
       "      <td>0.0</td>\n",
       "      <td>0.0</td>\n",
       "      <td>0.0</td>\n",
       "      <td>211.096358</td>\n",
       "      <td>8.106</td>\n",
       "      <td>False</td>\n",
       "      <td>...</td>\n",
       "      <td>0</td>\n",
       "      <td>0</td>\n",
       "      <td>0</td>\n",
       "      <td>0</td>\n",
       "      <td>0</td>\n",
       "      <td>0</td>\n",
       "      <td>0</td>\n",
       "      <td>0</td>\n",
       "      <td>0</td>\n",
       "      <td>0</td>\n",
       "    </tr>\n",
       "    <tr>\n",
       "      <th>3</th>\n",
       "      <td>42.31</td>\n",
       "      <td>2.572</td>\n",
       "      <td>0.0</td>\n",
       "      <td>0.0</td>\n",
       "      <td>0.0</td>\n",
       "      <td>0.0</td>\n",
       "      <td>0.0</td>\n",
       "      <td>211.096358</td>\n",
       "      <td>8.106</td>\n",
       "      <td>False</td>\n",
       "      <td>...</td>\n",
       "      <td>0</td>\n",
       "      <td>0</td>\n",
       "      <td>0</td>\n",
       "      <td>0</td>\n",
       "      <td>0</td>\n",
       "      <td>0</td>\n",
       "      <td>0</td>\n",
       "      <td>0</td>\n",
       "      <td>0</td>\n",
       "      <td>0</td>\n",
       "    </tr>\n",
       "    <tr>\n",
       "      <th>4</th>\n",
       "      <td>42.31</td>\n",
       "      <td>2.572</td>\n",
       "      <td>0.0</td>\n",
       "      <td>0.0</td>\n",
       "      <td>0.0</td>\n",
       "      <td>0.0</td>\n",
       "      <td>0.0</td>\n",
       "      <td>211.096358</td>\n",
       "      <td>8.106</td>\n",
       "      <td>False</td>\n",
       "      <td>...</td>\n",
       "      <td>0</td>\n",
       "      <td>0</td>\n",
       "      <td>0</td>\n",
       "      <td>0</td>\n",
       "      <td>0</td>\n",
       "      <td>0</td>\n",
       "      <td>0</td>\n",
       "      <td>0</td>\n",
       "      <td>0</td>\n",
       "      <td>0</td>\n",
       "    </tr>\n",
       "    <tr>\n",
       "      <th>5</th>\n",
       "      <td>42.31</td>\n",
       "      <td>2.572</td>\n",
       "      <td>0.0</td>\n",
       "      <td>0.0</td>\n",
       "      <td>0.0</td>\n",
       "      <td>0.0</td>\n",
       "      <td>0.0</td>\n",
       "      <td>211.096358</td>\n",
       "      <td>8.106</td>\n",
       "      <td>False</td>\n",
       "      <td>...</td>\n",
       "      <td>0</td>\n",
       "      <td>0</td>\n",
       "      <td>0</td>\n",
       "      <td>0</td>\n",
       "      <td>0</td>\n",
       "      <td>0</td>\n",
       "      <td>0</td>\n",
       "      <td>0</td>\n",
       "      <td>0</td>\n",
       "      <td>0</td>\n",
       "    </tr>\n",
       "    <tr>\n",
       "      <th>6</th>\n",
       "      <td>42.31</td>\n",
       "      <td>2.572</td>\n",
       "      <td>0.0</td>\n",
       "      <td>0.0</td>\n",
       "      <td>0.0</td>\n",
       "      <td>0.0</td>\n",
       "      <td>0.0</td>\n",
       "      <td>211.096358</td>\n",
       "      <td>8.106</td>\n",
       "      <td>False</td>\n",
       "      <td>...</td>\n",
       "      <td>0</td>\n",
       "      <td>0</td>\n",
       "      <td>0</td>\n",
       "      <td>0</td>\n",
       "      <td>0</td>\n",
       "      <td>0</td>\n",
       "      <td>0</td>\n",
       "      <td>0</td>\n",
       "      <td>0</td>\n",
       "      <td>0</td>\n",
       "    </tr>\n",
       "    <tr>\n",
       "      <th>7</th>\n",
       "      <td>42.31</td>\n",
       "      <td>2.572</td>\n",
       "      <td>0.0</td>\n",
       "      <td>0.0</td>\n",
       "      <td>0.0</td>\n",
       "      <td>0.0</td>\n",
       "      <td>0.0</td>\n",
       "      <td>211.096358</td>\n",
       "      <td>8.106</td>\n",
       "      <td>False</td>\n",
       "      <td>...</td>\n",
       "      <td>0</td>\n",
       "      <td>0</td>\n",
       "      <td>0</td>\n",
       "      <td>0</td>\n",
       "      <td>0</td>\n",
       "      <td>0</td>\n",
       "      <td>0</td>\n",
       "      <td>0</td>\n",
       "      <td>0</td>\n",
       "      <td>0</td>\n",
       "    </tr>\n",
       "    <tr>\n",
       "      <th>8</th>\n",
       "      <td>42.31</td>\n",
       "      <td>2.572</td>\n",
       "      <td>0.0</td>\n",
       "      <td>0.0</td>\n",
       "      <td>0.0</td>\n",
       "      <td>0.0</td>\n",
       "      <td>0.0</td>\n",
       "      <td>211.096358</td>\n",
       "      <td>8.106</td>\n",
       "      <td>False</td>\n",
       "      <td>...</td>\n",
       "      <td>0</td>\n",
       "      <td>0</td>\n",
       "      <td>0</td>\n",
       "      <td>0</td>\n",
       "      <td>0</td>\n",
       "      <td>0</td>\n",
       "      <td>0</td>\n",
       "      <td>0</td>\n",
       "      <td>0</td>\n",
       "      <td>0</td>\n",
       "    </tr>\n",
       "    <tr>\n",
       "      <th>9</th>\n",
       "      <td>42.31</td>\n",
       "      <td>2.572</td>\n",
       "      <td>0.0</td>\n",
       "      <td>0.0</td>\n",
       "      <td>0.0</td>\n",
       "      <td>0.0</td>\n",
       "      <td>0.0</td>\n",
       "      <td>211.096358</td>\n",
       "      <td>8.106</td>\n",
       "      <td>False</td>\n",
       "      <td>...</td>\n",
       "      <td>0</td>\n",
       "      <td>0</td>\n",
       "      <td>0</td>\n",
       "      <td>0</td>\n",
       "      <td>0</td>\n",
       "      <td>0</td>\n",
       "      <td>0</td>\n",
       "      <td>0</td>\n",
       "      <td>0</td>\n",
       "      <td>0</td>\n",
       "    </tr>\n",
       "  </tbody>\n",
       "</table>\n",
       "<p>10 rows × 136 columns</p>\n",
       "</div>"
      ],
      "text/plain": [
       "   Temperature  Fuel_Price  MarkDown1  MarkDown2  MarkDown3  MarkDown4  \\\n",
       "0        42.31       2.572        0.0        0.0        0.0        0.0   \n",
       "1        42.31       2.572        0.0        0.0        0.0        0.0   \n",
       "2        42.31       2.572        0.0        0.0        0.0        0.0   \n",
       "3        42.31       2.572        0.0        0.0        0.0        0.0   \n",
       "4        42.31       2.572        0.0        0.0        0.0        0.0   \n",
       "5        42.31       2.572        0.0        0.0        0.0        0.0   \n",
       "6        42.31       2.572        0.0        0.0        0.0        0.0   \n",
       "7        42.31       2.572        0.0        0.0        0.0        0.0   \n",
       "8        42.31       2.572        0.0        0.0        0.0        0.0   \n",
       "9        42.31       2.572        0.0        0.0        0.0        0.0   \n",
       "\n",
       "   MarkDown5         CPI  Unemployment  IsHoliday   ...     Dept_90  Dept_91  \\\n",
       "0        0.0  211.096358         8.106      False   ...           0        0   \n",
       "1        0.0  211.096358         8.106      False   ...           0        0   \n",
       "2        0.0  211.096358         8.106      False   ...           0        0   \n",
       "3        0.0  211.096358         8.106      False   ...           0        0   \n",
       "4        0.0  211.096358         8.106      False   ...           0        0   \n",
       "5        0.0  211.096358         8.106      False   ...           0        0   \n",
       "6        0.0  211.096358         8.106      False   ...           0        0   \n",
       "7        0.0  211.096358         8.106      False   ...           0        0   \n",
       "8        0.0  211.096358         8.106      False   ...           0        0   \n",
       "9        0.0  211.096358         8.106      False   ...           0        0   \n",
       "\n",
       "   Dept_92  Dept_93  Dept_94  Dept_95  Dept_96  Dept_97  Dept_98  Dept_99  \n",
       "0        0        0        0        0        0        0        0        0  \n",
       "1        0        0        0        0        0        0        0        0  \n",
       "2        0        0        0        0        0        0        0        0  \n",
       "3        0        0        0        0        0        0        0        0  \n",
       "4        0        0        0        0        0        0        0        0  \n",
       "5        0        0        0        0        0        0        0        0  \n",
       "6        0        0        0        0        0        0        0        0  \n",
       "7        0        0        0        0        0        0        0        0  \n",
       "8        0        0        0        0        0        0        0        0  \n",
       "9        0        0        0        0        0        0        0        0  \n",
       "\n",
       "[10 rows x 136 columns]"
      ]
     },
     "execution_count": 30,
     "metadata": {},
     "output_type": "execute_result"
    }
   ],
   "source": [
    "NewXfill = pd.get_dummies(finalfill[['Store', 'Temperature', 'Fuel_Price', 'MarkDown1', 'MarkDown2', 'MarkDown3', 'MarkDown4',\n",
    "       'MarkDown5', 'CPI', 'Unemployment', 'Dept', 'IsHoliday']], columns=['Store', 'Dept'])\n",
    "NewXfill.head(10)"
   ]
  },
  {
   "cell_type": "code",
   "execution_count": 139,
   "metadata": {},
   "outputs": [
    {
     "name": "stdout",
     "output_type": "stream",
     "text": [
      "R^2 model score: 0.6579292154213883 \n",
      "\n",
      "Model feature coefficients:\n",
      "Temperature Coefficient weight: -12.17672\n",
      "Fuel_Price Coefficient weight: -617.97863\n",
      "MarkDown1 Coefficient weight: 0.00287\n",
      "MarkDown2 Coefficient weight: -0.04168\n",
      "MarkDown3 Coefficient weight: 0.10324\n",
      "MarkDown4 Coefficient weight: -0.01917\n",
      "MarkDown5 Coefficient weight: 0.04475\n",
      "CPI Coefficient weight: 8.3873\n",
      "Unemployment Coefficient weight: -366.80697\n",
      "IsHoliday Coefficient weight: 611.68792\n",
      "Store_1 Coefficient weight: -56190768963.77592\n",
      "Store_2 Coefficient weight: -56190763807.97864\n",
      "Store_3 Coefficient weight: -56190785446.53356\n",
      "Store_4 Coefficient weight: -56190761480.32336\n",
      "Store_5 Coefficient weight: -56190787185.12016\n",
      "Store_6 Coefficient weight: -56190769212.93543\n",
      "Store_7 Coefficient weight: -56190782779.95809\n",
      "Store_8 Coefficient weight: -56190778618.62137\n",
      "Store_9 Coefficient weight: -56190783651.5465\n",
      "Store_10 Coefficient weight: -56190762837.28764\n",
      "Store_11 Coefficient weight: -56190771897.44305\n",
      "Store_12 Coefficient weight: -56190773365.66785\n",
      "Store_13 Coefficient weight: -56190762644.57269\n",
      "Store_14 Coefficient weight: -56190761447.15181\n",
      "Store_15 Coefficient weight: -56190781251.59669\n",
      "Store_16 Coefficient weight: -56190784102.67117\n",
      "Store_17 Coefficient weight: -56190777835.38061\n",
      "Store_18 Coefficient weight: -56190774217.13435\n",
      "Store_19 Coefficient weight: -56190769648.50634\n",
      "Store_20 Coefficient weight: -56190761091.8467\n",
      "Store_21 Coefficient weight: -56190780063.78512\n",
      "Store_22 Coefficient weight: -56190775331.24583\n",
      "Store_23 Coefficient weight: -56190771506.05215\n",
      "Store_24 Coefficient weight: -56190770731.22079\n",
      "Store_25 Coefficient weight: -56190780867.56566\n",
      "Store_26 Coefficient weight: -56190776176.61813\n",
      "Store_27 Coefficient weight: -56190765049.91299\n",
      "Store_28 Coefficient weight: -56190769259.19519\n",
      "Store_29 Coefficient weight: -56190781909.03928\n",
      "Store_30 Coefficient weight: -56190786683.25477\n",
      "Store_31 Coefficient weight: -56190771250.54503\n",
      "Store_32 Coefficient weight: -56190774084.23306\n",
      "Store_33 Coefficient weight: -56190789158.92619\n",
      "Store_34 Coefficient weight: -56190776418.7186\n",
      "Store_35 Coefficient weight: -56190776611.92593\n",
      "Store_36 Coefficient weight: -56190788117.56389\n",
      "Store_37 Coefficient weight: -56190785002.78959\n",
      "Store_38 Coefficient weight: -56190784753.25571\n",
      "Store_39 Coefficient weight: -56190770460.99415\n",
      "Store_40 Coefficient weight: -56190777710.55326\n",
      "Store_41 Coefficient weight: -56190773275.87213\n",
      "Store_42 Coefficient weight: -56190782530.07623\n",
      "Store_43 Coefficient weight: -56190781866.2987\n",
      "Store_44 Coefficient weight: -56190789288.91309\n",
      "Store_45 Coefficient weight: -56190779114.87669\n",
      "Dept_1 Coefficient weight: -51366658.79382\n",
      "Dept_2 Coefficient weight: -51342265.25875\n",
      "Dept_3 Coefficient weight: -51374078.58036\n",
      "Dept_4 Coefficient weight: -51359897.6487\n",
      "Dept_5 Coefficient weight: -51364620.87291\n",
      "Dept_6 Coefficient weight: -51381918.69504\n",
      "Dept_7 Coefficient weight: -51361711.04149\n",
      "Dept_8 Coefficient weight: -51355681.01537\n",
      "Dept_9 Coefficient weight: -51365823.30136\n",
      "Dept_10 Coefficient weight: -51367551.00654\n",
      "Dept_11 Coefficient weight: -51371368.42156\n",
      "Dept_12 Coefficient weight: -51381748.78225\n",
      "Dept_13 Coefficient weight: -51355208.47618\n",
      "Dept_14 Coefficient weight: -51371001.31292\n",
      "Dept_16 Coefficient weight: -51371626.64063\n",
      "Dept_17 Coefficient weight: -51375721.54631\n",
      "Dept_18 Coefficient weight: -51379271.67523\n",
      "Dept_19 Coefficient weight: -51387071.89872\n",
      "Dept_20 Coefficient weight: -51380979.27739\n",
      "Dept_21 Coefficient weight: -51380889.42807\n",
      "Dept_22 Coefficient weight: -51376760.0775\n",
      "Dept_23 Coefficient weight: -51363132.10463\n",
      "Dept_24 Coefficient weight: -51381470.05306\n",
      "Dept_25 Coefficient weight: -51377048.79277\n",
      "Dept_26 Coefficient weight: -51379351.3085\n",
      "Dept_27 Coefficient weight: -51385830.43656\n",
      "Dept_28 Coefficient weight: -51385886.2445\n",
      "Dept_29 Coefficient weight: -51382422.26985\n",
      "Dept_30 Coefficient weight: -51384000.55588\n",
      "Dept_31 Coefficient weight: -51384251.58935\n",
      "Dept_32 Coefficient weight: -51379892.74021\n",
      "Dept_33 Coefficient weight: -51381394.32129\n",
      "Dept_34 Coefficient weight: -51372402.02042\n",
      "Dept_35 Coefficient weight: -51385179.95138\n",
      "Dept_36 Coefficient weight: -51386082.73723\n",
      "Dept_37 Coefficient weight: -51389076.01114\n",
      "Dept_38 Coefficient weight: -51324781.65932\n",
      "Dept_39 Coefficient weight: -51393967.51036\n",
      "Dept_40 Coefficient weight: -51340971.57619\n",
      "Dept_41 Coefficient weight: -51385841.09125\n",
      "Dept_42 Coefficient weight: -51380751.24418\n",
      "Dept_43 Coefficient weight: -51384939.52115\n",
      "Dept_44 Coefficient weight: -51383052.18962\n",
      "Dept_45 Coefficient weight: -51388904.5982\n",
      "Dept_46 Coefficient weight: -51365927.5374\n",
      "Dept_47 Coefficient weight: -51389195.65333\n",
      "Dept_48 Coefficient weight: -51390393.96147\n",
      "Dept_49 Coefficient weight: -51380984.20029\n",
      "Dept_50 Coefficient weight: -51389942.93152\n",
      "Dept_51 Coefficient weight: -51387952.74087\n",
      "Dept_52 Coefficient weight: -51384278.57055\n",
      "Dept_54 Coefficient weight: -51388503.61454\n",
      "Dept_55 Coefficient weight: -51376600.09892\n",
      "Dept_56 Coefficient weight: -51383076.67012\n",
      "Dept_58 Coefficient weight: -51385859.38537\n",
      "Dept_59 Coefficient weight: -51385710.09523\n",
      "Dept_60 Coefficient weight: -51385390.62692\n",
      "Dept_65 Coefficient weight: -51339025.12498\n",
      "Dept_67 Coefficient weight: -51378431.59858\n",
      "Dept_71 Coefficient weight: -51382357.70519\n",
      "Dept_72 Coefficient weight: -51336030.88779\n",
      "Dept_74 Coefficient weight: -51372070.7556\n",
      "Dept_77 Coefficient weight: -51390833.97848\n",
      "Dept_78 Coefficient weight: -51389795.04117\n",
      "Dept_79 Coefficient weight: -51363899.23395\n",
      "Dept_80 Coefficient weight: -51374335.42215\n",
      "Dept_81 Coefficient weight: -51370401.87805\n",
      "Dept_82 Coefficient weight: -51370402.64712\n",
      "Dept_83 Coefficient weight: -51383213.54833\n",
      "Dept_85 Coefficient weight: -51384330.10043\n",
      "Dept_87 Coefficient weight: -51372518.98623\n",
      "Dept_90 Coefficient weight: -51340640.19439\n",
      "Dept_91 Coefficient weight: -51352184.36813\n",
      "Dept_92 Coefficient weight: -51310667.40835\n",
      "Dept_93 Coefficient weight: -51359584.62512\n",
      "Dept_94 Coefficient weight: -51352947.38551\n",
      "Dept_95 Coefficient weight: -51316047.85581\n",
      "Dept_96 Coefficient weight: -51370425.81302\n",
      "Dept_97 Coefficient weight: -51371786.42205\n",
      "Dept_98 Coefficient weight: -51379615.51946\n",
      "Dept_99 Coefficient weight: -51391606.31748\n"
     ]
    }
   ],
   "source": [
    "#Rerun regression with NewXfill\n",
    "from sklearn.linear_model import LinearRegression\n",
    "\n",
    "X = NewXfill\n",
    "y = finalfill['Weekly_Sales']\n",
    "\n",
    "linreg = LinearRegression()\n",
    "linreg.fit(X, y)\n",
    "\n",
    "finalfill['Estimated_Weekly_Sales'] = linreg.predict(X)\n",
    "print('R^2 model score:', linreg.score(X,y), '\\n')\n",
    "\n",
    "print('Model feature coefficients:')\n",
    "#save result\n",
    "filweight_dict_fill = dict(zip(X.columns, linreg.coef_))\n",
    "for feat, coeff in list(zip(X.columns, linreg.coef_)):\n",
    "    print(feat, 'Coefficient weight: {}'.format(round(coeff, 5)))"
   ]
  },
  {
   "cell_type": "markdown",
   "metadata": {},
   "source": [
    "### Train Test Split"
   ]
  },
  {
   "cell_type": "code",
   "execution_count": 141,
   "metadata": {},
   "outputs": [],
   "source": [
    "from sklearn.model_selection import train_test_split\n",
    "from sklearn.metrics import mean_squared_error\n"
   ]
  },
  {
   "cell_type": "code",
   "execution_count": 142,
   "metadata": {},
   "outputs": [],
   "source": [
    "X_train, X_test, y_train, y_test = train_test_split(X, y, random_state=0)"
   ]
  },
  {
   "cell_type": "code",
   "execution_count": 143,
   "metadata": {},
   "outputs": [
    {
     "data": {
      "text/plain": [
       "((421570, 136), (421570,))"
      ]
     },
     "execution_count": 143,
     "metadata": {},
     "output_type": "execute_result"
    }
   ],
   "source": [
    "X.shape, y.shape"
   ]
  },
  {
   "cell_type": "code",
   "execution_count": 144,
   "metadata": {},
   "outputs": [
    {
     "name": "stdout",
     "output_type": "stream",
     "text": [
      "Train Mean Squared Error: 13242.418625869006\n",
      "Test Mean Squared Error: 13407.789969388963\n"
     ]
    }
   ],
   "source": [
    "#choosing a model\n",
    "mod = LinearRegression() #run regression\n",
    "mod.fit(X_train, y_train) #fit\n",
    "#predicting\n",
    "y_hat_train = mod.predict(X_train) #predict\n",
    "y_hat_test = mod.predict(X_test) #never seen the test\n",
    "\n",
    "#calculate and choose error\n",
    "train_mse = np.sqrt(mean_squared_error(y_train,y_hat_train))\n",
    "test_mse = np.sqrt(mean_squared_error(y_test, y_hat_test))\n",
    "\n",
    "print('Train Mean Squared Error:', train_mse)\n",
    "print('Test Mean Squared Error:', test_mse)\n",
    "\n",
    "#if train and test data is not close to one another\n",
    "#overfit training data, test data is not similar enough to train data\n"
   ]
  },
  {
   "cell_type": "markdown",
   "metadata": {},
   "source": [
    "# Cross Validation: KFold"
   ]
  },
  {
   "cell_type": "code",
   "execution_count": 35,
   "metadata": {},
   "outputs": [],
   "source": [
    "from sklearn.model_selection import KFold"
   ]
  },
  {
   "cell_type": "code",
   "execution_count": 37,
   "metadata": {},
   "outputs": [],
   "source": [
    "def kfolds(data, k):\n",
    "    #Force data as pandas dataframe (optional but could be helpful)\n",
    "    #Be sure to account for the case where the dataset is not evenly divisible\n",
    "    return None #folds should be a list of subsets of data"
   ]
  },
  {
   "cell_type": "code",
   "execution_count": 38,
   "metadata": {},
   "outputs": [],
   "source": [
    "import pandas as pd\n",
    "from sklearn.linear_model import LinearRegression\n",
    "from sklearn.metrics import mean_squared_error\n",
    "import matplotlib.pyplot as plt\n",
    "%matplotlib inline\n",
    "import numpy as np"
   ]
  },
  {
   "cell_type": "code",
   "execution_count": 48,
   "metadata": {},
   "outputs": [
    {
     "data": {
      "text/html": [
       "<div>\n",
       "<style scoped>\n",
       "    .dataframe tbody tr th:only-of-type {\n",
       "        vertical-align: middle;\n",
       "    }\n",
       "\n",
       "    .dataframe tbody tr th {\n",
       "        vertical-align: top;\n",
       "    }\n",
       "\n",
       "    .dataframe thead th {\n",
       "        text-align: right;\n",
       "    }\n",
       "</style>\n",
       "<table border=\"1\" class=\"dataframe\">\n",
       "  <thead>\n",
       "    <tr style=\"text-align: right;\">\n",
       "      <th></th>\n",
       "      <th>Store</th>\n",
       "      <th>Dept</th>\n",
       "      <th>Date</th>\n",
       "      <th>Weekly_Sales</th>\n",
       "      <th>IsHoliday</th>\n",
       "      <th>Temperature</th>\n",
       "      <th>Fuel_Price</th>\n",
       "      <th>MarkDown1</th>\n",
       "      <th>MarkDown2</th>\n",
       "      <th>MarkDown3</th>\n",
       "      <th>MarkDown4</th>\n",
       "      <th>MarkDown5</th>\n",
       "      <th>CPI</th>\n",
       "      <th>Unemployment</th>\n",
       "      <th>Estimated_Weekly_Sales</th>\n",
       "    </tr>\n",
       "  </thead>\n",
       "  <tbody>\n",
       "    <tr>\n",
       "      <th>0</th>\n",
       "      <td>1</td>\n",
       "      <td>1</td>\n",
       "      <td>2010-02-05</td>\n",
       "      <td>24924.50</td>\n",
       "      <td>0</td>\n",
       "      <td>42.31</td>\n",
       "      <td>2.572</td>\n",
       "      <td>7246.420196</td>\n",
       "      <td>3334.628621</td>\n",
       "      <td>1439.421384</td>\n",
       "      <td>3383.168256</td>\n",
       "      <td>4628.975079</td>\n",
       "      <td>211.096358</td>\n",
       "      <td>8.106</td>\n",
       "      <td>27096.498838</td>\n",
       "    </tr>\n",
       "    <tr>\n",
       "      <th>1</th>\n",
       "      <td>1</td>\n",
       "      <td>2</td>\n",
       "      <td>2010-02-05</td>\n",
       "      <td>50605.27</td>\n",
       "      <td>0</td>\n",
       "      <td>42.31</td>\n",
       "      <td>2.572</td>\n",
       "      <td>7246.420196</td>\n",
       "      <td>3334.628621</td>\n",
       "      <td>1439.421384</td>\n",
       "      <td>3383.168256</td>\n",
       "      <td>4628.975079</td>\n",
       "      <td>211.096358</td>\n",
       "      <td>8.106</td>\n",
       "      <td>51490.033846</td>\n",
       "    </tr>\n",
       "    <tr>\n",
       "      <th>2</th>\n",
       "      <td>1</td>\n",
       "      <td>3</td>\n",
       "      <td>2010-02-05</td>\n",
       "      <td>13740.12</td>\n",
       "      <td>0</td>\n",
       "      <td>42.31</td>\n",
       "      <td>2.572</td>\n",
       "      <td>7246.420196</td>\n",
       "      <td>3334.628621</td>\n",
       "      <td>1439.421384</td>\n",
       "      <td>3383.168256</td>\n",
       "      <td>4628.975079</td>\n",
       "      <td>211.096358</td>\n",
       "      <td>8.106</td>\n",
       "      <td>19676.712261</td>\n",
       "    </tr>\n",
       "    <tr>\n",
       "      <th>3</th>\n",
       "      <td>1</td>\n",
       "      <td>4</td>\n",
       "      <td>2010-02-05</td>\n",
       "      <td>39954.04</td>\n",
       "      <td>0</td>\n",
       "      <td>42.31</td>\n",
       "      <td>2.572</td>\n",
       "      <td>7246.420196</td>\n",
       "      <td>3334.628621</td>\n",
       "      <td>1439.421384</td>\n",
       "      <td>3383.168256</td>\n",
       "      <td>4628.975079</td>\n",
       "      <td>211.096358</td>\n",
       "      <td>8.106</td>\n",
       "      <td>33857.643982</td>\n",
       "    </tr>\n",
       "    <tr>\n",
       "      <th>4</th>\n",
       "      <td>1</td>\n",
       "      <td>5</td>\n",
       "      <td>2010-02-05</td>\n",
       "      <td>32229.38</td>\n",
       "      <td>0</td>\n",
       "      <td>42.31</td>\n",
       "      <td>2.572</td>\n",
       "      <td>7246.420196</td>\n",
       "      <td>3334.628621</td>\n",
       "      <td>1439.421384</td>\n",
       "      <td>3383.168256</td>\n",
       "      <td>4628.975079</td>\n",
       "      <td>211.096358</td>\n",
       "      <td>8.106</td>\n",
       "      <td>29134.054461</td>\n",
       "    </tr>\n",
       "  </tbody>\n",
       "</table>\n",
       "</div>"
      ],
      "text/plain": [
       "  Store Dept        Date  Weekly_Sales  IsHoliday  Temperature  Fuel_Price  \\\n",
       "0     1    1  2010-02-05      24924.50          0        42.31       2.572   \n",
       "1     1    2  2010-02-05      50605.27          0        42.31       2.572   \n",
       "2     1    3  2010-02-05      13740.12          0        42.31       2.572   \n",
       "3     1    4  2010-02-05      39954.04          0        42.31       2.572   \n",
       "4     1    5  2010-02-05      32229.38          0        42.31       2.572   \n",
       "\n",
       "     MarkDown1    MarkDown2    MarkDown3    MarkDown4    MarkDown5  \\\n",
       "0  7246.420196  3334.628621  1439.421384  3383.168256  4628.975079   \n",
       "1  7246.420196  3334.628621  1439.421384  3383.168256  4628.975079   \n",
       "2  7246.420196  3334.628621  1439.421384  3383.168256  4628.975079   \n",
       "3  7246.420196  3334.628621  1439.421384  3383.168256  4628.975079   \n",
       "4  7246.420196  3334.628621  1439.421384  3383.168256  4628.975079   \n",
       "\n",
       "          CPI  Unemployment  Estimated_Weekly_Sales  \n",
       "0  211.096358         8.106            27096.498838  \n",
       "1  211.096358         8.106            51490.033846  \n",
       "2  211.096358         8.106            19676.712261  \n",
       "3  211.096358         8.106            33857.643982  \n",
       "4  211.096358         8.106            29134.054461  "
      ]
     },
     "execution_count": 48,
     "metadata": {},
     "output_type": "execute_result"
    }
   ],
   "source": [
    "#finalx\n",
    "X_feats = ['Store', 'Temperature', 'Fuel_Price', 'MarkDown1', 'MarkDown2', 'MarkDown3', 'MarkDown4',\n",
    "       'MarkDown5', 'CPI', 'Unemployment', 'Dept', 'IsHoliday']\n",
    "y_feat = 'Weekly_Sales'\n",
    "finalx.head()"
   ]
  },
  {
   "cell_type": "code",
   "execution_count": 39,
   "metadata": {},
   "outputs": [
    {
     "data": {
      "text/plain": [
       "Int64Index([     0,      1,      2,      3,      4,      5,      6,      7,\n",
       "                 8,      9,\n",
       "            ...\n",
       "            421560, 421561, 421562, 421563, 421564, 421565, 421566, 421567,\n",
       "            421568, 421569],\n",
       "           dtype='int64', length=421570)"
      ]
     },
     "execution_count": 39,
     "metadata": {},
     "output_type": "execute_result"
    }
   ],
   "source": [
    "finalx.index"
   ]
  },
  {
   "cell_type": "code",
   "execution_count": 40,
   "metadata": {},
   "outputs": [],
   "source": [
    "kf =KFold(n_splits=5)"
   ]
  },
  {
   "cell_type": "code",
   "execution_count": 46,
   "metadata": {
    "scrolled": true
   },
   "outputs": [
    {
     "name": "stdout",
     "output_type": "stream",
     "text": [
      "train_index [ 84314  84315  84316 ... 421567 421568 421569]\n",
      "test index [    0     1     2 ... 84311 84312 84313]\n",
      "\n",
      "train_index [     0      1      2 ... 421567 421568 421569]\n",
      "test index [ 84314  84315  84316 ... 168625 168626 168627]\n",
      "\n",
      "train_index [     0      1      2 ... 421567 421568 421569]\n",
      "test index [168628 168629 168630 ... 252939 252940 252941]\n",
      "\n",
      "train_index [     0      1      2 ... 421567 421568 421569]\n",
      "test index [252942 252943 252944 ... 337253 337254 337255]\n",
      "\n",
      "train_index [     0      1      2 ... 337253 337254 337255]\n",
      "test index [337256 337257 337258 ... 421567 421568 421569]\n",
      "\n"
     ]
    }
   ],
   "source": [
    "for train_index, test_index in kf.split(finalx):\n",
    "    print('train_index', train_index)\n",
    "    print('test index', test_index)\n",
    "    print()"
   ]
  },
  {
   "cell_type": "code",
   "execution_count": 49,
   "metadata": {
    "scrolled": true
   },
   "outputs": [
    {
     "name": "stdout",
     "output_type": "stream",
     "text": [
      "(337256, 12) (337256,)\n",
      "(84314, 12) (84314,)\n",
      "\n",
      "(337256, 12) (337256,)\n",
      "(84314, 12) (84314,)\n",
      "\n",
      "(337256, 12) (337256,)\n",
      "(84314, 12) (84314,)\n",
      "\n",
      "(337256, 12) (337256,)\n",
      "(84314, 12) (84314,)\n",
      "\n",
      "(337256, 12) (337256,)\n",
      "(84314, 12) (84314,)\n",
      "\n"
     ]
    }
   ],
   "source": [
    "rmse_df = pd.DataFrame(columns=('fold','train','test'))\n",
    "for fold, (train_index, test_index) in enumerate(kf.split(finalx)):\n",
    "    X_tr = finalx.loc[train_index, X_feats]\n",
    "    y_tr = finalx.loc[train_index, y_feat]\n",
    "    X_te = finalx.loc[test_index, X_feats]\n",
    "    y_te = finalx.loc[test_index, y_feat]\n",
    "    \n",
    "    print(X_tr.shape, y_tr.shape)\n",
    "    print(X_te.shape, y_te.shape)\n",
    "    print()\n",
    "    \n",
    "    mod = LinearRegression() #run regression\n",
    "    mod.fit(X_tr, y_tr) #fit  \n",
    "\n",
    "    rmse_tr = np.sqrt(mean_squared_error(y_tr, mod.predict(X_tr))) #this line error\n",
    "    rmse_te = np.sqrt(mean_squared_error(y_te, mod.predict(X_te)))\n",
    "\n",
    "    tmp_df = pd.DataFrame({'fold':[fold],'train':[rmse_tr],'test':[rmse_te]})\n",
    "    rmse_df = pd.concat([rmse_df, tmp_df], ignore_index=True)"
   ]
  },
  {
   "cell_type": "code",
   "execution_count": 50,
   "metadata": {},
   "outputs": [
    {
     "data": {
      "text/plain": [
       "22246.66150179435"
      ]
     },
     "execution_count": 50,
     "metadata": {},
     "output_type": "execute_result"
    }
   ],
   "source": [
    "rmse_df['train'].mean()"
   ]
  },
  {
   "cell_type": "code",
   "execution_count": 51,
   "metadata": {
    "scrolled": true
   },
   "outputs": [
    {
     "name": "stderr",
     "output_type": "stream",
     "text": [
      "/Users/adriansubagyo/anaconda3/lib/python3.6/site-packages/plotnine/utils.py:281: FutureWarning: Method .as_matrix will be removed in a future version. Use .values instead.\n",
      "  ndistinct = ids.apply(len_unique, axis=0).as_matrix()\n",
      "/Users/adriansubagyo/anaconda3/lib/python3.6/site-packages/pandas/core/generic.py:4384: FutureWarning: Attribute 'is_copy' is deprecated and will be removed in a future version.\n",
      "  object.__getattribute__(self, name)\n",
      "/Users/adriansubagyo/anaconda3/lib/python3.6/site-packages/pandas/core/generic.py:4385: FutureWarning: Attribute 'is_copy' is deprecated and will be removed in a future version.\n",
      "  return object.__setattr__(self, name, value)\n",
      "/Users/adriansubagyo/anaconda3/lib/python3.6/site-packages/plotnine/positions/position.py:188: FutureWarning: Method .as_matrix will be removed in a future version. Use .values instead.\n",
      "  intervals = data[xminmax].drop_duplicates().as_matrix().flatten()\n"
     ]
    },
    {
     "data": {
      "image/png": "[encoded data removed]",
      "text/plain": [
       "<Figure size 640x480 with 1 Axes>"
      ]
     },
     "metadata": {},
     "output_type": "display_data"
    },
    {
     "data": {
      "text/plain": [
       "<ggplot: (7567481201)>"
      ]
     },
     "execution_count": 51,
     "metadata": {},
     "output_type": "execute_result"
    }
   ],
   "source": [
    "plt_df = (rmse_df.melt(id_vars=['fold'], var_name='data', value_name='rmse')\n",
    "          .assign(mean = lambda d: d.groupby('data')['rmse'].transform(lambda x: x.mean()))\n",
    "        )\n",
    "(ggplot(plt_df, aes(x='fold', y='rmse', fill='data'))\n",
    " + geom_col(position='dodge')\n",
    " + geom_hline(aes(yintercept='mean', color='data'), linetype='--', size=2)\n",
    " + theme_minimal()\n",
    ")\n",
    "\n"
   ]
  },
  {
   "cell_type": "markdown",
   "metadata": {},
   "source": [
    "# Model Tuning"
   ]
  },
  {
   "cell_type": "markdown",
   "metadata": {},
   "source": [
    "# Normalization"
   ]
  },
  {
   "cell_type": "code",
   "execution_count": 63,
   "metadata": {
    "scrolled": true
   },
   "outputs": [
    {
     "name": "stderr",
     "output_type": "stream",
     "text": [
      "/Users/adriansubagyo/anaconda3/lib/python3.6/site-packages/ipykernel_launcher.py:6: SettingWithCopyWarning: \n",
      "A value is trying to be set on a copy of a slice from a DataFrame.\n",
      "Try using .loc[row_indexer,col_indexer] = value instead\n",
      "\n",
      "See the caveats in the documentation: http://pandas.pydata.org/pandas-docs/stable/indexing.html#indexing-view-versus-copy\n",
      "  \n"
     ]
    },
    {
     "name": "stdout",
     "output_type": "stream",
     "text": [
      "Training r^2: 0.6584226889561708\n",
      "Testing r^2: 0.6563074008439115\n",
      "Training MSE: 175588238.12394258\n",
      "Testing MSE: 179072302.08765903\n"
     ]
    }
   ],
   "source": [
    "features = [col for col in finalx.columns if finalx[col].dtype in [np.float64, np.int64] and col!='Weekly_Sales']\n",
    "X = finalx[features]\n",
    "#Impute null values\n",
    "for col in X:\n",
    "    avg = X[col].mean()\n",
    "    X[col] = X[col].fillna(value=avg)\n",
    "y = finalx.Weekly_Sales\n",
    "\n",
    "X_train, X_test, y_train, y_test = train_test_split(X,y)\n",
    "ols = LinearRegression(normalize=True)\n",
    "ols.fit(X_train, y_train)\n",
    "print('Training r^2:', ols.score(X_train, y_train))\n",
    "print('Testing r^2:', ols.score(X_test, y_test))\n",
    "print('Training MSE:', mean_squared_error(y_train, ols.predict(X_train)))\n",
    "print('Testing MSE:', mean_squared_error(y_test, ols.predict(X_test)))"
   ]
  },
  {
   "cell_type": "code",
   "execution_count": null,
   "metadata": {},
   "outputs": [],
   "source": [
    "#Add Dummy\n",
    "#NewX"
   ]
  },
  {
   "cell_type": "code",
   "execution_count": 57,
   "metadata": {},
   "outputs": [],
   "source": [
    "from sklearn.linear_model import Lasso, Ridge, LassoCV, RidgeCV"
   ]
  },
  {
   "cell_type": "code",
   "execution_count": 60,
   "metadata": {
    "scrolled": true
   },
   "outputs": [
    {
     "name": "stdout",
     "output_type": "stream",
     "text": [
      "Training r^2: 0.6584935288501039\n",
      "Testing r^2: 0.6560382952479298\n",
      "Training MSE: 13210.94979474805\n",
      "Testing MSE: 13501.736964289117\n",
      "Best alpha: 0.14122542723727177\n"
     ]
    }
   ],
   "source": [
    "L1 = LassoCV(normalize=True) #Lasso is also known as the L1 norm.\n",
    "L1.fit(X_train, y_train)\n",
    "print('Training r^2:', L1.score(X_train, y_train))\n",
    "print('Testing r^2:', L1.score(X_test, y_test))\n",
    "print('Training MSE:', np.sqrt(mean_squared_error(y_train, L1.predict(X_train))))\n",
    "print('Testing MSE:', np.sqrt(mean_squared_error(y_test, L1.predict(X_test))))\n",
    "print('Best alpha:', L1.alpha_)"
   ]
  },
  {
   "cell_type": "code",
   "execution_count": 65,
   "metadata": {},
   "outputs": [],
   "source": [
    "import warnings\n",
    "from plotnine import *"
   ]
  },
  {
   "cell_type": "code",
   "execution_count": 66,
   "metadata": {},
   "outputs": [
    {
     "name": "stderr",
     "output_type": "stream",
     "text": [
      "/Users/adriansubagyo/anaconda3/lib/python3.6/site-packages/plotnine/utils.py:281: FutureWarning: Method .as_matrix will be removed in a future version. Use .values instead.\n",
      "  ndistinct = ids.apply(len_unique, axis=0).as_matrix()\n",
      "/Users/adriansubagyo/anaconda3/lib/python3.6/site-packages/pandas/core/generic.py:4384: FutureWarning: Attribute 'is_copy' is deprecated and will be removed in a future version.\n",
      "  object.__getattribute__(self, name)\n",
      "/Users/adriansubagyo/anaconda3/lib/python3.6/site-packages/pandas/core/generic.py:4385: FutureWarning: Attribute 'is_copy' is deprecated and will be removed in a future version.\n",
      "  return object.__setattr__(self, name, value)\n"
     ]
    },
    {
     "data": {
      "image/png": "[encoded data removed]",
      "text/plain": [
       "<Figure size 640x480 with 1 Axes>"
      ]
     },
     "metadata": {},
     "output_type": "display_data"
    },
    {
     "data": {
      "text/plain": [
       "<ggplot: (-9223372029296454775)>"
      ]
     },
     "execution_count": 66,
     "metadata": {},
     "output_type": "execute_result"
    }
   ],
   "source": [
    "alphas = []\n",
    "mse_tr = []\n",
    "mse_te = []\n",
    "for alpha in np.linspace(start=1, stop=100, num=25):\n",
    "    with warnings.catch_warnings():\n",
    "        warnings.simplefilter(\"ignore\")\n",
    "        L1 = Lasso(alpha=alpha, normalize=True)\n",
    "        L1.fit(X_train, y_train)\n",
    "    mse_tr.append(np.sqrt(mean_squared_error(y_train, L1.predict(X_train))))\n",
    "    mse_te.append(np.sqrt(mean_squared_error(y_test, L1.predict(X_test))))\n",
    "    alphas.append(alpha)\n",
    "    \n",
    "mse_df = (pd.DataFrame({'alpha': alphas, 'train': mse_tr, 'test': mse_te})\n",
    "          .assign(min_point = lambda d: d['test'].min())\n",
    "          .assign(min_point = lambda d: d.apply(lambda x: 1 if x['test'] == x['min_point'] else 0, axis=1))\n",
    "          .melt(id_vars=['alpha', 'min_point'], var_name='data', value_name='mse')\n",
    "         )\n",
    "min_alpha = mse_df.loc[lambda d: (d['min_point'] == 1) & (d['data'] == 'test'), 'alpha'].values[0]\n",
    "min_mse = mse_df.loc[lambda d: (d['min_point'] == 1) & (d['data'] == 'test'), 'mse'].values[0]\n",
    "\n",
    "(ggplot(mse_df, aes(x='alpha', y='mse', color='data'))\n",
    " + geom_line() + geom_point() \n",
    " + geom_vline(xintercept=min_alpha, linetype='--', color='gray')\n",
    " + geom_hline(yintercept=min_mse, linetype='--', color='gray')\n",
    " + geom_text(x=min_alpha + 10, y=min_mse - 1000,\n",
    "             label='alpha: {}, rmse: {}'.format(min_alpha.round(2).astype(str), min_mse.round(2).astype(str)),\n",
    "             color='black'\n",
    "            )\n",
    " + theme_minimal()\n",
    ")"
   ]
  },
  {
   "cell_type": "markdown",
   "metadata": {},
   "source": [
    "## Do linear regression, RidgeCV, LassoCV"
   ]
  },
  {
   "cell_type": "code",
   "execution_count": 147,
   "metadata": {},
   "outputs": [
    {
     "name": "stdout",
     "output_type": "stream",
     "text": [
      "R^2 model score: 0.6579292154213883 \n",
      "\n",
      "Model feature coefficients:\n",
      "Temperature Coefficient weight: -12.17505\n",
      "Fuel_Price Coefficient weight: -617.35377\n",
      "MarkDown1 Coefficient weight: 0.02112\n",
      "MarkDown2 Coefficient weight: -0.02844\n",
      "MarkDown3 Coefficient weight: -0.03522\n",
      "MarkDown4 Coefficient weight: -0.01482\n",
      "MarkDown5 Coefficient weight: 0.0831\n",
      "CPI Coefficient weight: 8.22707\n",
      "Unemployment Coefficient weight: -367.0007\n",
      "IsHoliday Coefficient weight: 611.70247\n",
      "Store_1 Coefficient weight: 7014.48026\n",
      "Store_2 Coefficient weight: 12170.08936\n",
      "Store_3 Coefficient weight: -9467.54536\n",
      "Store_4 Coefficient weight: 14483.63948\n",
      "Store_5 Coefficient weight: -11206.73502\n",
      "Store_6 Coefficient weight: 6765.36647\n",
      "Store_7 Coefficient weight: -6804.85439\n",
      "Store_8 Coefficient weight: -2639.99957\n",
      "Store_9 Coefficient weight: -7672.76007\n",
      "Store_10 Coefficient weight: 13126.92653\n",
      "Store_11 Coefficient weight: 4081.29051\n",
      "Store_12 Coefficient weight: 2599.57476\n",
      "Store_13 Coefficient weight: 13319.53776\n",
      "Store_14 Coefficient weight: 14526.34897\n",
      "Store_15 Coefficient weight: -5286.17751\n",
      "Store_16 Coefficient weight: -8127.93316\n",
      "Store_17 Coefficient weight: -1871.09224\n",
      "Store_18 Coefficient weight: 1748.43512\n",
      "Store_19 Coefficient weight: 6316.63069\n",
      "Store_20 Coefficient weight: 14885.01887\n",
      "Store_21 Coefficient weight: -4085.42878\n",
      "Store_22 Coefficient weight: 634.81365\n",
      "Store_23 Coefficient weight: 4458.73028\n",
      "Store_24 Coefficient weight: 5234.12785\n",
      "Store_25 Coefficient weight: -4890.42153\n",
      "Store_26 Coefficient weight: -211.16641\n",
      "Store_27 Coefficient weight: 10915.88191\n",
      "Store_28 Coefficient weight: 6705.98053\n",
      "Store_29 Coefficient weight: -5943.19239\n",
      "Store_30 Coefficient weight: -10704.62808\n",
      "Store_31 Coefficient weight: 4727.65099\n",
      "Store_32 Coefficient weight: 1890.71626\n",
      "Store_33 Coefficient weight: -13194.10753\n",
      "Store_34 Coefficient weight: -453.43041\n",
      "Store_35 Coefficient weight: -645.69678\n",
      "Store_36 Coefficient weight: -12138.94795\n",
      "Store_37 Coefficient weight: -9024.27194\n",
      "Store_38 Coefficient weight: -8787.66077\n",
      "Store_39 Coefficient weight: 5517.03839\n",
      "Store_40 Coefficient weight: -1745.69923\n",
      "Store_41 Coefficient weight: 2698.77101\n",
      "Store_42 Coefficient weight: -6565.40531\n",
      "Store_43 Coefficient weight: -5888.52295\n",
      "Store_44 Coefficient weight: -13324.25474\n",
      "Store_45 Coefficient weight: -3141.11752\n",
      "Dept_1 Coefficient weight: 6417.90466\n",
      "Dept_2 Coefficient weight: 30811.06061\n",
      "Dept_3 Coefficient weight: -1001.76661\n",
      "Dept_4 Coefficient weight: 13178.94471\n",
      "Dept_5 Coefficient weight: 8455.79965\n",
      "Dept_6 Coefficient weight: -8841.73269\n",
      "Dept_7 Coefficient weight: 11365.5801\n",
      "Dept_8 Coefficient weight: 17395.5125\n",
      "Dept_9 Coefficient weight: 7253.38675\n",
      "Dept_10 Coefficient weight: 5525.70578\n",
      "Dept_11 Coefficient weight: 1708.35015\n",
      "Dept_12 Coefficient weight: -8671.84735\n",
      "Dept_13 Coefficient weight: 17868.04425\n",
      "Dept_14 Coefficient weight: 2075.45306\n",
      "Dept_16 Coefficient weight: 1450.13506\n",
      "Dept_17 Coefficient weight: -2644.70782\n",
      "Dept_18 Coefficient weight: -6194.73629\n",
      "Dept_19 Coefficient weight: -13994.69907\n",
      "Dept_20 Coefficient weight: -7902.33392\n",
      "Dept_21 Coefficient weight: -7812.50847\n",
      "Dept_22 Coefficient weight: -3683.16914\n",
      "Dept_23 Coefficient weight: 9944.54844\n",
      "Dept_24 Coefficient weight: -8393.05643\n",
      "Dept_25 Coefficient weight: -3971.92902\n",
      "Dept_26 Coefficient weight: -6274.3774\n",
      "Dept_27 Coefficient weight: -12753.37809\n",
      "Dept_28 Coefficient weight: -12809.22396\n",
      "Dept_29 Coefficient weight: -9345.24516\n",
      "Dept_30 Coefficient weight: -10923.49962\n",
      "Dept_31 Coefficient weight: -11174.5892\n",
      "Dept_32 Coefficient weight: -6815.80812\n",
      "Dept_33 Coefficient weight: -8317.32342\n",
      "Dept_34 Coefficient weight: 674.81412\n",
      "Dept_35 Coefficient weight: -12102.87358\n",
      "Dept_36 Coefficient weight: -13005.64178\n",
      "Dept_37 Coefficient weight: -15998.49243\n",
      "Dept_38 Coefficient weight: 48294.38839\n",
      "Dept_39 Coefficient weight: -20760.67764\n",
      "Dept_40 Coefficient weight: 32104.72314\n",
      "Dept_41 Coefficient weight: -12764.01544\n",
      "Dept_42 Coefficient weight: -7674.32445\n",
      "Dept_43 Coefficient weight: -11764.72054\n",
      "Dept_44 Coefficient weight: -9975.16712\n",
      "Dept_45 Coefficient weight: -15826.94117\n",
      "Dept_46 Coefficient weight: 7149.14969\n",
      "Dept_47 Coefficient weight: -16116.28819\n",
      "Dept_48 Coefficient weight: -17316.06092\n",
      "Dept_49 Coefficient weight: -7907.14247\n",
      "Dept_50 Coefficient weight: -16864.92287\n",
      "Dept_51 Coefficient weight: -14874.87876\n",
      "Dept_52 Coefficient weight: -11201.58697\n",
      "Dept_54 Coefficient weight: -15426.44587\n",
      "Dept_55 Coefficient weight: -3523.20669\n",
      "Dept_56 Coefficient weight: -9999.67634\n",
      "Dept_58 Coefficient weight: -12782.22054\n",
      "Dept_59 Coefficient weight: -12633.08956\n",
      "Dept_60 Coefficient weight: -12313.60966\n",
      "Dept_65 Coefficient weight: 34027.5716\n",
      "Dept_67 Coefficient weight: -5354.7172\n",
      "Dept_71 Coefficient weight: -9280.68136\n",
      "Dept_72 Coefficient weight: 37045.31569\n",
      "Dept_74 Coefficient weight: 1006.02699\n",
      "Dept_77 Coefficient weight: -17745.20792\n",
      "Dept_78 Coefficient weight: -16711.01629\n",
      "Dept_79 Coefficient weight: 9177.42165\n",
      "Dept_80 Coefficient weight: -1258.59172\n",
      "Dept_81 Coefficient weight: 2674.87855\n",
      "Dept_82 Coefficient weight: 2674.10951\n",
      "Dept_83 Coefficient weight: -10136.56747\n",
      "Dept_85 Coefficient weight: -11253.10059\n",
      "Dept_87 Coefficient weight: 557.80669\n",
      "Dept_90 Coefficient weight: 32436.09972\n",
      "Dept_91 Coefficient weight: 20892.1054\n",
      "Dept_92 Coefficient weight: 62408.41999\n",
      "Dept_93 Coefficient weight: 13491.95572\n",
      "Dept_94 Coefficient weight: 20129.06799\n",
      "Dept_95 Coefficient weight: 57028.05616\n",
      "Dept_96 Coefficient weight: 2650.91898\n",
      "Dept_97 Coefficient weight: 1290.35853\n",
      "Dept_98 Coefficient weight: -6538.59466\n",
      "Dept_99 Coefficient weight: -18527.22229\n"
     ]
    }
   ],
   "source": [
    "#RidgeCV\n",
    "#Rerun regression with NewXfill\n",
    "from sklearn.linear_model import RidgeCV\n",
    "from sklearn.datasets import make_regression\n",
    "\n",
    "X = NewXfill\n",
    "y = finalfill['Weekly_Sales']\n",
    "\n",
    "reg = RidgeCV()\n",
    "reg.fit(X, y)\n",
    "\n",
    "finalfill['Estimated_Weekly_Sales'] = reg.predict(X)\n",
    "print('R^2 model score:', linreg.score(X,y), '\\n')\n",
    "\n",
    "print('Model feature coefficients:')\n",
    "#save result\n",
    "filweight_dict_fill = dict(zip(X.columns, reg.coef_))\n",
    "for feat, coeff in list(zip(X.columns, reg.coef_)):\n",
    "    print(feat, 'Coefficient weight: {}'.format(round(coeff, 5)))"
   ]
  },
  {
   "cell_type": "code",
   "execution_count": 150,
   "metadata": {},
   "outputs": [
    {
     "name": "stdout",
     "output_type": "stream",
     "text": [
      "R^2 model score: 0.004887793554604336 \n",
      "\n",
      "Model feature coefficients:\n",
      "Temperature Coefficient weight: 0.0\n",
      "Fuel_Price Coefficient weight: -0.0\n",
      "MarkDown1 Coefficient weight: 0.11619\n",
      "MarkDown2 Coefficient weight: 0.04192\n",
      "MarkDown3 Coefficient weight: 0.14783\n",
      "MarkDown4 Coefficient weight: 0.0\n",
      "MarkDown5 Coefficient weight: 0.17611\n",
      "CPI Coefficient weight: -0.0\n",
      "Unemployment Coefficient weight: -0.0\n",
      "IsHoliday Coefficient weight: 0.0\n",
      "Store_1 Coefficient weight: 0.0\n",
      "Store_2 Coefficient weight: 0.0\n",
      "Store_3 Coefficient weight: -0.0\n",
      "Store_4 Coefficient weight: 0.0\n",
      "Store_5 Coefficient weight: -0.0\n",
      "Store_6 Coefficient weight: 0.0\n",
      "Store_7 Coefficient weight: -0.0\n",
      "Store_8 Coefficient weight: -0.0\n",
      "Store_9 Coefficient weight: -0.0\n",
      "Store_10 Coefficient weight: 0.0\n",
      "Store_11 Coefficient weight: 0.0\n",
      "Store_12 Coefficient weight: -0.0\n",
      "Store_13 Coefficient weight: 0.0\n",
      "Store_14 Coefficient weight: 0.0\n",
      "Store_15 Coefficient weight: -0.0\n",
      "Store_16 Coefficient weight: -0.0\n",
      "Store_17 Coefficient weight: -0.0\n",
      "Store_18 Coefficient weight: -0.0\n",
      "Store_19 Coefficient weight: 0.0\n",
      "Store_20 Coefficient weight: 0.0\n",
      "Store_21 Coefficient weight: -0.0\n",
      "Store_22 Coefficient weight: -0.0\n",
      "Store_23 Coefficient weight: 0.0\n",
      "Store_24 Coefficient weight: 0.0\n",
      "Store_25 Coefficient weight: -0.0\n",
      "Store_26 Coefficient weight: -0.0\n",
      "Store_27 Coefficient weight: 0.0\n",
      "Store_28 Coefficient weight: 0.0\n",
      "Store_29 Coefficient weight: -0.0\n",
      "Store_30 Coefficient weight: -0.0\n",
      "Store_31 Coefficient weight: 0.0\n",
      "Store_32 Coefficient weight: 0.0\n",
      "Store_33 Coefficient weight: -0.0\n",
      "Store_34 Coefficient weight: -0.0\n",
      "Store_35 Coefficient weight: -0.0\n",
      "Store_36 Coefficient weight: -0.0\n",
      "Store_37 Coefficient weight: -0.0\n",
      "Store_38 Coefficient weight: -0.0\n",
      "Store_39 Coefficient weight: 0.0\n",
      "Store_40 Coefficient weight: -0.0\n",
      "Store_41 Coefficient weight: 0.0\n",
      "Store_42 Coefficient weight: -0.0\n",
      "Store_43 Coefficient weight: -0.0\n",
      "Store_44 Coefficient weight: -0.0\n",
      "Store_45 Coefficient weight: -0.0\n",
      "Dept_1 Coefficient weight: 0.0\n",
      "Dept_2 Coefficient weight: 0.0\n",
      "Dept_3 Coefficient weight: -0.0\n",
      "Dept_4 Coefficient weight: 0.0\n",
      "Dept_5 Coefficient weight: 0.0\n",
      "Dept_6 Coefficient weight: -0.0\n",
      "Dept_7 Coefficient weight: 0.0\n",
      "Dept_8 Coefficient weight: 0.0\n",
      "Dept_9 Coefficient weight: 0.0\n",
      "Dept_10 Coefficient weight: 0.0\n",
      "Dept_11 Coefficient weight: -0.0\n",
      "Dept_12 Coefficient weight: -0.0\n",
      "Dept_13 Coefficient weight: 0.0\n",
      "Dept_14 Coefficient weight: -0.0\n",
      "Dept_16 Coefficient weight: -0.0\n",
      "Dept_17 Coefficient weight: -0.0\n",
      "Dept_18 Coefficient weight: -0.0\n",
      "Dept_19 Coefficient weight: -0.0\n",
      "Dept_20 Coefficient weight: -0.0\n",
      "Dept_21 Coefficient weight: -0.0\n",
      "Dept_22 Coefficient weight: -0.0\n",
      "Dept_23 Coefficient weight: 0.0\n",
      "Dept_24 Coefficient weight: -0.0\n",
      "Dept_25 Coefficient weight: -0.0\n",
      "Dept_26 Coefficient weight: -0.0\n",
      "Dept_27 Coefficient weight: -0.0\n",
      "Dept_28 Coefficient weight: -0.0\n",
      "Dept_29 Coefficient weight: -0.0\n",
      "Dept_30 Coefficient weight: -0.0\n",
      "Dept_31 Coefficient weight: -0.0\n",
      "Dept_32 Coefficient weight: -0.0\n",
      "Dept_33 Coefficient weight: -0.0\n",
      "Dept_34 Coefficient weight: -0.0\n",
      "Dept_35 Coefficient weight: -0.0\n",
      "Dept_36 Coefficient weight: -0.0\n",
      "Dept_37 Coefficient weight: -0.0\n",
      "Dept_38 Coefficient weight: 0.0\n",
      "Dept_39 Coefficient weight: -0.0\n",
      "Dept_40 Coefficient weight: 0.0\n",
      "Dept_41 Coefficient weight: -0.0\n",
      "Dept_42 Coefficient weight: -0.0\n",
      "Dept_43 Coefficient weight: -0.0\n",
      "Dept_44 Coefficient weight: -0.0\n",
      "Dept_45 Coefficient weight: -0.0\n",
      "Dept_46 Coefficient weight: 0.0\n",
      "Dept_47 Coefficient weight: -0.0\n",
      "Dept_48 Coefficient weight: -0.0\n",
      "Dept_49 Coefficient weight: -0.0\n",
      "Dept_50 Coefficient weight: -0.0\n",
      "Dept_51 Coefficient weight: -0.0\n",
      "Dept_52 Coefficient weight: -0.0\n",
      "Dept_54 Coefficient weight: -0.0\n",
      "Dept_55 Coefficient weight: -0.0\n",
      "Dept_56 Coefficient weight: -0.0\n",
      "Dept_58 Coefficient weight: -0.0\n",
      "Dept_59 Coefficient weight: -0.0\n",
      "Dept_60 Coefficient weight: -0.0\n",
      "Dept_65 Coefficient weight: 0.0\n",
      "Dept_67 Coefficient weight: -0.0\n",
      "Dept_71 Coefficient weight: -0.0\n",
      "Dept_72 Coefficient weight: 0.0\n",
      "Dept_74 Coefficient weight: -0.0\n",
      "Dept_77 Coefficient weight: -0.0\n",
      "Dept_78 Coefficient weight: -0.0\n",
      "Dept_79 Coefficient weight: 0.0\n",
      "Dept_80 Coefficient weight: -0.0\n",
      "Dept_81 Coefficient weight: -0.0\n",
      "Dept_82 Coefficient weight: -0.0\n",
      "Dept_83 Coefficient weight: -0.0\n",
      "Dept_85 Coefficient weight: -0.0\n",
      "Dept_87 Coefficient weight: -0.0\n",
      "Dept_90 Coefficient weight: 0.0\n",
      "Dept_91 Coefficient weight: 0.0\n",
      "Dept_92 Coefficient weight: 0.0\n",
      "Dept_93 Coefficient weight: 0.0\n",
      "Dept_94 Coefficient weight: 0.0\n",
      "Dept_95 Coefficient weight: 0.0\n",
      "Dept_96 Coefficient weight: -0.0\n",
      "Dept_97 Coefficient weight: -0.0\n",
      "Dept_98 Coefficient weight: -0.0\n",
      "Dept_99 Coefficient weight: -0.0\n"
     ]
    }
   ],
   "source": [
    "#LassoCV\n",
    "#Rerun regression with NewXfill\n",
    "from sklearn.linear_model import LassoCV\n",
    "from sklearn.datasets import make_regression\n",
    "\n",
    "X = NewXfill\n",
    "y = finalfill['Weekly_Sales']\n",
    "\n",
    "lasreg = LassoCV()\n",
    "lasreg.fit(X, y)\n",
    "\n",
    "finalfill['Estimated_Weekly_Sales'] = lasreg.predict(X)\n",
    "print('R^2 model score:', lasreg.score(X,y), '\\n')\n",
    "\n",
    "print('Model feature coefficients:')\n",
    "#save result\n",
    "filweight_dict_fill = dict(zip(X.columns, lasreg.coef_))\n",
    "for feat, coeff in list(zip(X.columns, lasreg.coef_)):\n",
    "    print(feat, 'Coefficient weight: {}'.format(round(coeff, 5)))"
   ]
  },
  {
   "cell_type": "code",
   "execution_count": null,
   "metadata": {},
   "outputs": [],
   "source": [
    "#model2"
   ]
  },
  {
   "cell_type": "code",
   "execution_count": null,
   "metadata": {},
   "outputs": [],
   "source": [
    "#evaluation"
   ]
  },
  {
   "cell_type": "code",
   "execution_count": null,
   "metadata": {},
   "outputs": [],
   "source": [
    "#further investigation"
   ]
  },
  {
   "cell_type": "code",
   "execution_count": null,
   "metadata": {},
   "outputs": [],
   "source": [
    "#Your code here"
   ]
  }
 ],
 "metadata": {
  "kernelspec": {
   "display_name": "Python 3",
   "language": "python",
   "name": "python3"
  },
  "language_info": {
   "codemirror_mode": {
    "name": "ipython",
    "version": 3
   },
   "file_extension": ".py",
   "mimetype": "text/x-python",
   "name": "python",
   "nbconvert_exporter": "python",
   "pygments_lexer": "ipython3",
   "version": "3.6.5"
  }
 },
 "nbformat": 4,
 "nbformat_minor": 2
}
